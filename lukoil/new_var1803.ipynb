{
 "cells": [
  {
   "cell_type": "code",
   "execution_count": 39,
   "metadata": {},
   "outputs": [],
   "source": [
    "import pandas as pd\n",
    "import numpy as np\n",
    "import matplotlib.pyplot as plt\n",
    "import seaborn as sns\n",
    "from sklearn.feature_selection import GenericUnivariateSelect, mutual_info_classif, SelectFromModel\n",
    "from sklearn.pipeline import Pipeline\n",
    "from sklearn.model_selection import StratifiedKFold, GridSearchCV, cross_val_score\n",
    "from sklearn.ensemble import RandomForestClassifier\n",
    "from sklearn.preprocessing import PowerTransformer\n",
    "from sklearn.linear_model import LogisticRegression\n",
    "\n",
    "# зафиксируем значение генератора случайных чисел для воспроизводимости \n",
    "SEED = 1\n",
    "\n",
    "# Функции, которые в дальнейшем понадобятся\n",
    "def plot_features_scores(model, data, target, column_names, model_type):\n",
    "    '''Функция для визуализации важности признаков'''\n",
    "    \n",
    "    model.fit(data, target)\n",
    "    \n",
    "    if model_type == 'rf':\n",
    "        (pd.DataFrame(data={'score': model['rf'].feature_importances_}, \n",
    "                      index=column_names).sort_values(by='score')\n",
    "                                         .plot(kind='barh', grid=True,\n",
    "                                               figsize=(6,6), legend=False));\n",
    "    elif model_type == 'lr':\n",
    "        (pd.DataFrame(data={'score': model['lr'].coef_[0]},\n",
    "                      index=column_names).sort_values(by='score')\n",
    "                                         .plot(kind='barh', grid=True,\n",
    "                                               figsize=(6,6), legend=False));\n",
    "        \n",
    "    else:\n",
    "        raise KeyError('Unknown model_type')\n",
    "\n",
    "def grid_search(model, gs_params):\n",
    "    '''Функция для подбора гиперпараметров с помощью перекрёстной проверки'''\n",
    "     \n",
    "    gs = GridSearchCV(estimator=model, param_grid=gs_params, refit=True,\n",
    "                      scoring='roc_auc', n_jobs=-1, cv=skf, verbose=0)\n",
    "    gs.fit(X, y)\n",
    "    scores = [gs.cv_results_[f'split{i}_test_score'][gs.best_index_] for i in range(5)]\n",
    "    print('scores = {}, \\nmean score = {:.5f} +/- {:.5f} \\\n",
    "           \\nbest params = {}'.format(scores,\n",
    "                                      gs.cv_results_['mean_test_score'][gs.best_index_],\n",
    "                                      gs.cv_results_['std_test_score'][gs.best_index_],\n",
    "                                      gs.best_params_))\n",
    "    return gs\n",
    "        \n",
    "# загрузим данные        \n",
    "df = pd.read_csv('contest_train.csv')\n",
    "\n"
   ]
  },
  {
   "cell_type": "code",
   "execution_count": 40,
   "metadata": {},
   "outputs": [],
   "source": [
    "def normal_colum(n):\n",
    "    if n < Q1:\n",
    "        return Q1 - 1\n",
    "    elif n > Q3:\n",
    "        return Q3 + 1\n",
    "    return n\n",
    "\n",
    "def normal_df(df):\n",
    "    columns = list(df.columns)[1:-1]\n",
    "    for col in columns:\n",
    "        global Q1, Q3\n",
    "        Q1 = df[col].quantile(0.25)\n",
    "        Q3 = df[col].quantile(0.75)\n",
    "\n",
    "        if len(df[col].unique()) <= 2:\n",
    "            df[col] = df[col].fillna(df[col].median())\n",
    "        else:\n",
    "            # df[col] = df[col].apply(normal_colum)\n",
    "            df[col] = df[col].fillna(df[col].median())\n",
    "    return df\n"
   ]
  },
  {
   "cell_type": "code",
   "execution_count": 41,
   "metadata": {},
   "outputs": [],
   "source": [
    "norm    = df.count()[0] * 0.9\n",
    "columns = list(df.columns)[1:-3]\n",
    "\n",
    "dict_zero = {col:df[col].value_counts().get(0, 0) for col in columns}\n",
    "dict_nan  = dict(df.isnull().sum())\n",
    "\n",
    "del_columns_zero = [k for k, v in dict_zero.items() if v > norm]\n",
    "del_columns__nan = [k for k, v in  dict_nan.items() if v > norm]\n",
    "\n",
    "df = df.drop(columns=del_columns_zero + del_columns__nan, axis=1)\n",
    "df = normal_df(df)"
   ]
  },
  {
   "cell_type": "code",
   "execution_count": 42,
   "metadata": {},
   "outputs": [],
   "source": [
    "X = df.iloc[:, 1:-1]\n",
    "y = df['TARGET']"
   ]
  },
  {
   "cell_type": "code",
   "execution_count": 43,
   "metadata": {},
   "outputs": [
    {
     "name": "stdout",
     "output_type": "stream",
     "text": [
      "scores = [nan nan nan nan nan] \n",
      "mean score = nan +/- nan\n"
     ]
    }
   ],
   "source": [
    "rf = Pipeline([('rf', RandomForestClassifier(n_jobs=-1, \n",
    "                                             class_weight='balanced', \n",
    "                                             random_state=SEED))])\n",
    "\n",
    "# параметры кросс-валидации (стратифицированная 5-фолдовая с перемешиванием) \n",
    "skf = StratifiedKFold(n_splits=5, shuffle=True, random_state=SEED)\n",
    "\n",
    "scores = cross_val_score(estimator=rf, X=X, y=y, \n",
    "                         cv=skf, scoring='roc_auc', n_jobs=-1)\n",
    "print('scores = {} \\nmean score = {:.5f} +/- {:.5f}'.format(scores, scores.mean(), scores.std()))\n",
    "\n",
    "# важность признаков\n",
    "plot_features_scores(model=rf, data=X, target=y, column_names=X.columns, model_type='rf')"
   ]
  },
  {
   "cell_type": "code",
   "execution_count": 44,
   "metadata": {},
   "outputs": [
    {
     "name": "stdout",
     "output_type": "stream",
     "text": [
      "scores = [nan nan nan nan nan] \n",
      "mean score = nan +/- nan\n"
     ]
    }
   ],
   "source": [
    "lr = Pipeline([('p_trans', PowerTransformer(method='yeo-johnson', standardize=True)),\n",
    "               ('lr', LogisticRegression(solver='liblinear',\n",
    "                                         penalty='l1',\n",
    "                                         max_iter=200,\n",
    "                                         class_weight='balanced',\n",
    "                                         random_state=SEED)\n",
    "               )])\n",
    "scores = cross_val_score(estimator=lr, X=X, y=y, \n",
    "                         cv=skf, scoring='roc_auc', n_jobs=-1)\n",
    "print('scores = {} \\nmean score = {:.5f} +/- {:.5f}'.format(scores, scores.mean(), scores.std()))\n",
    "\n",
    "plot_features_scores(model=lr, data=X, target=y, column_names=X.columns, model_type='lr')"
   ]
  },
  {
   "cell_type": "code",
   "execution_count": 48,
   "metadata": {},
   "outputs": [],
   "source": [
    "selector = GenericUnivariateSelect(score_func=mutual_info_classif, \n",
    "                                   mode='k_best', \n",
    "                                   param=100)\n",
    "# применим к нашему датасету\n",
    "selector.fit(X, y)\n",
    "# метод transform вернёт массив с отобранными признаками\n",
    "# выведем результаты оценки каждого признака \n",
    "result = pd.DataFrame(data={'score':selector.scores_,\n",
    "                   'support':selector.get_support()}, \n",
    "             index=X.columns).sort_values(by='score',ascending=False)"
   ]
  },
  {
   "cell_type": "code",
   "execution_count": 49,
   "metadata": {},
   "outputs": [
    {
     "name": "stdout",
     "output_type": "stream",
     "text": [
      "grid search results for rf\n"
     ]
    }
   ],
   "source": [
    "# добавим селектор в пайплайн к случайному лесу\n",
    "selector = ('selector', GenericUnivariateSelect(score_func=mutual_info_classif, \n",
    "                                                mode='k_best'))\n",
    "rf.steps.insert(0, selector)\n",
    "\n",
    "    \n",
    "# grid search\n",
    "rf_params = {'selector__param': np.arange(4,10),\n",
    "             'rf__max_depth': np.arange(2, 16, 2),\n",
    "             'rf__max_features': np.arange(0.3, 0.9, 0.2)}\n",
    "print('grid search results for rf')\n",
    "rf_grid = grid_search(model=rf, gs_params=rf_params)"
   ]
  },
  {
   "cell_type": "code",
   "execution_count": null,
   "metadata": {},
   "outputs": [],
   "source": [
    "# выведем признаки, отобранные селектором\n",
    "selected_features = [X.columns[i] for i, support\n",
    "                     in enumerate(rf_grid.best_estimator_['selector'].get_support()) if support]\n",
    "\n",
    "plot_features_scores(model=rf_grid.best_estimator_, \n",
    "                     data=X, target=y, column_names=selected_features, model_type='rf')"
   ]
  }
 ],
 "metadata": {
  "interpreter": {
   "hash": "03130e1e88e13a032f69981c32da9b604f050f5857d0cf25fc1ed9951001c58f"
  },
  "kernelspec": {
   "display_name": "Python 3.8.10 ('venv': venv)",
   "language": "python",
   "name": "python3"
  },
  "language_info": {
   "codemirror_mode": {
    "name": "ipython",
    "version": 3
   },
   "file_extension": ".py",
   "mimetype": "text/x-python",
   "name": "python",
   "nbconvert_exporter": "python",
   "pygments_lexer": "ipython3",
   "version": "3.8.10"
  },
  "orig_nbformat": 4
 },
 "nbformat": 4,
 "nbformat_minor": 2
}
