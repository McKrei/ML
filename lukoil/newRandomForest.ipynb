{
 "cells": [
  {
   "cell_type": "code",
   "execution_count": 37,
   "metadata": {},
   "outputs": [],
   "source": [
    "import pandas as pd\n",
    "import numpy as np\n",
    "from sklearn import metrics\n",
    "from sklearn.ensemble import RandomForestClassifier\n",
    "from sklearn.model_selection import train_test_split\n",
    "from sklearn.metrics import r2_score\n",
    "from sklearn.metrics import classification_report\n",
    "import matplotlib.pyplot as plt\n",
    "import seaborn as sns"
   ]
  },
  {
   "cell_type": "code",
   "execution_count": 38,
   "metadata": {},
   "outputs": [],
   "source": [
    "pd.set_option('display.max_columns', None) # Снимаем ограничение по клонкам\n",
    "df = pd.read_csv('contest_train.csv', sep=',') # Загрузка файла\n",
    "prediction_data = pd.read_csv('contest_test.csv', sep=',')\n",
    "df.dropna(axis=1, how='any', inplace=True) # Удалеем колонны с None"
   ]
  },
  {
   "cell_type": "code",
   "execution_count": 39,
   "metadata": {},
   "outputs": [],
   "source": [
    "df['targetBin'] = df[\"TARGET\"].apply(lambda x: 0 if x in [0, 1] else 2).values # Для предсказания 2\n",
    "myTrain = df.iloc[:15000, :] # На чем будем учиться\n",
    "myTest  = df.iloc[15000:, :] # Для предсказания, для сравнения подходов"
   ]
  },
  {
   "cell_type": "code",
   "execution_count": 40,
   "metadata": {},
   "outputs": [],
   "source": [
    "# Модель для предсказание сначала 2-к потом 1-ц\n",
    "\n",
    "two  = myTrain[myTrain['targetBin'] == 2]\n",
    "zero = myTrain[myTrain['targetBin'] == 0].head(1000)\n",
    "myTrainBin = pd.concat([two, zero])"
   ]
  },
  {
   "cell_type": "code",
   "execution_count": 41,
   "metadata": {},
   "outputs": [
    {
     "data": {
      "text/plain": [
       "9"
      ]
     },
     "execution_count": 41,
     "metadata": {},
     "output_type": "execute_result"
    }
   ],
   "source": [
    "df_corr = myTrainBin.corr().unstack().reset_index()\n",
    "hig_corr_features = df_corr[(np.abs(df_corr[0]) > 0.35) & (df_corr['level_0'] != df_corr['level_1'])]\n",
    "features = hig_corr_features[hig_corr_features['level_0'] == 'targetBin']['level_1'].values[:-1]\n",
    "len(features)"
   ]
  },
  {
   "cell_type": "code",
   "execution_count": 42,
   "metadata": {},
   "outputs": [
    {
     "name": "stderr",
     "output_type": "stream",
     "text": [
      "C:\\Users\\PC\\AppData\\Local\\Temp\\ipykernel_10680\\382573838.py:10: SettingWithCopyWarning: \n",
      "A value is trying to be set on a copy of a slice from a DataFrame.\n",
      "Try using .loc[row_indexer,col_indexer] = value instead\n",
      "\n",
      "See the caveats in the documentation: https://pandas.pydata.org/pandas-docs/stable/user_guide/indexing.html#returning-a-view-versus-a-copy\n",
      "  myTest['tRF01'] = predict\n"
     ]
    }
   ],
   "source": [
    "\n",
    "X = myTrainBin[features].values\n",
    "y = myTrainBin['targetBin'].values\n",
    "\n",
    "model_search_two = RandomForestClassifier()\n",
    "model_search_two.fit(X, y)\n",
    "\n",
    "# Результат предсказания 2\n",
    "Xtest = myTest[features].values\n",
    "predict = model_search_two.predict(Xtest)\n",
    "myTest['tRF01'] = predict"
   ]
  },
  {
   "cell_type": "code",
   "execution_count": 43,
   "metadata": {},
   "outputs": [],
   "source": [
    "# Находим 1\n",
    "one  = myTrain[myTrain['TARGET'] == 1]\n",
    "zero = myTrain[myTrain['TARGET'] == 0].head(3500)\n",
    "myTrainbin01 = pd.concat([one, zero])"
   ]
  },
  {
   "cell_type": "code",
   "execution_count": 44,
   "metadata": {},
   "outputs": [
    {
     "data": {
      "text/plain": [
       "12"
      ]
     },
     "execution_count": 44,
     "metadata": {},
     "output_type": "execute_result"
    }
   ],
   "source": [
    "df_corr = myTrainbin01.corr().unstack().reset_index()\n",
    "hig_corr_features = df_corr[(np.abs(df_corr[0]) > 0.04) & (df_corr['level_0'] != df_corr['level_1'])]\n",
    "features = hig_corr_features[hig_corr_features['level_0'] == 'TARGET']['level_1'].values[:-1]\n",
    "len(features)"
   ]
  },
  {
   "cell_type": "code",
   "execution_count": 45,
   "metadata": {},
   "outputs": [
    {
     "name": "stderr",
     "output_type": "stream",
     "text": [
      "C:\\Users\\PC\\AppData\\Local\\Temp\\ipykernel_10680\\2549859849.py:9: SettingWithCopyWarning: \n",
      "A value is trying to be set on a copy of a slice from a DataFrame.\n",
      "Try using .loc[row_indexer,col_indexer] = value instead\n",
      "\n",
      "See the caveats in the documentation: https://pandas.pydata.org/pandas-docs/stable/user_guide/indexing.html#returning-a-view-versus-a-copy\n",
      "  myTest['TresultBin'] = predict\n"
     ]
    }
   ],
   "source": [
    "\n",
    "X = myTrainbin01[features].values\n",
    "y = myTrainbin01['TARGET'].values\n",
    "\n",
    "model_search_one = RandomForestClassifier(n_estimators=100)\n",
    "model_search_one.fit(X, y)\n",
    "\n",
    "Xtest = myTest[features].values\n",
    "predict = model_search_one.predict(Xtest)\n",
    "myTest['TresultBin'] = predict"
   ]
  },
  {
   "cell_type": "code",
   "execution_count": 46,
   "metadata": {},
   "outputs": [
    {
     "name": "stderr",
     "output_type": "stream",
     "text": [
      "C:\\Users\\PC\\AppData\\Local\\Temp\\ipykernel_10680\\2865831538.py:6: SettingWithCopyWarning: \n",
      "A value is trying to be set on a copy of a slice from a DataFrame.\n",
      "Try using .loc[row_indexer,col_indexer] = value instead\n",
      "\n",
      "See the caveats in the documentation: https://pandas.pydata.org/pandas-docs/stable/user_guide/indexing.html#returning-a-view-versus-a-copy\n",
      "  myTest['TresultBin'] = result\n"
     ]
    }
   ],
   "source": [
    "# объединяем результат работы поиска 1 и 2\n",
    "result = []\n",
    "list_ = list(myTest[['tRF01', 'TresultBin']].values)\n",
    "for i, j in list_:\n",
    "    result.append(2 if i == 2 else j)\n",
    "myTest['TresultBin'] = result"
   ]
  },
  {
   "cell_type": "code",
   "execution_count": 47,
   "metadata": {},
   "outputs": [
    {
     "name": "stdout",
     "output_type": "stream",
     "text": [
      "Результат работы раздельно:\n",
      "              precision    recall  f1-score   support\n",
      "\n",
      "           0       0.77      0.46      0.58      2360\n",
      "           1       0.30      0.43      0.35       822\n",
      "           2       0.18      0.71      0.29       208\n",
      "\n",
      "    accuracy                           0.47      3390\n",
      "   macro avg       0.42      0.53      0.41      3390\n",
      "weighted avg       0.62      0.47      0.50      3390\n",
      "\n"
     ]
    }
   ],
   "source": [
    "print(\"Результат работы раздельно:\")\n",
    "print(classification_report(myTest['TARGET'], myTest['TresultBin']))"
   ]
  }
 ],
 "metadata": {
  "interpreter": {
   "hash": "03130e1e88e13a032f69981c32da9b604f050f5857d0cf25fc1ed9951001c58f"
  },
  "kernelspec": {
   "display_name": "Python 3.8.10 ('venv': venv)",
   "language": "python",
   "name": "python3"
  },
  "language_info": {
   "codemirror_mode": {
    "name": "ipython",
    "version": 3
   },
   "file_extension": ".py",
   "mimetype": "text/x-python",
   "name": "python",
   "nbconvert_exporter": "python",
   "pygments_lexer": "ipython3",
   "version": "3.8.10"
  },
  "orig_nbformat": 4
 },
 "nbformat": 4,
 "nbformat_minor": 2
}
