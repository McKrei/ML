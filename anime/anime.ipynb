{
 "cells": [
  {
   "cell_type": "code",
   "execution_count": 200,
   "metadata": {},
   "outputs": [],
   "source": [
    "import pandas as pd\n",
    "import numpy as np\n",
    "import sqlite3\n",
    "import re\n",
    "from collections import Counter\n",
    "\n",
    "conn = sqlite3.connect('anime.db')\n",
    "pd.set_option('display.max_columns', 100)\n",
    "pd.set_option('display.max_row', 200)\n",
    "\n",
    "df = pd.read_csv('anime.csv', index_col='MAL_ID')\n",
    "my_anime = pd.read_sql('SELECT * FROM anime', conn)\n",
    "\n"
   ]
  },
  {
   "cell_type": "code",
   "execution_count": 201,
   "metadata": {},
   "outputs": [
    {
     "name": "stderr",
     "output_type": "stream",
     "text": [
      "C:\\Users\\PC\\AppData\\Local\\Temp\\ipykernel_22028\\627347272.py:12: SettingWithCopyWarning: \n",
      "A value is trying to be set on a copy of a slice from a DataFrame.\n",
      "Try using .loc[row_indexer,col_indexer] = value instead\n",
      "\n",
      "See the caveats in the documentation: https://pandas.pydata.org/pandas-docs/stable/user_guide/indexing.html#returning-a-view-versus-a-copy\n",
      "  df2.Aired = df2.Aired.apply(lambda x: x if len(x) < 15 else x[:15])\n"
     ]
    }
   ],
   "source": [
    "type_dict = {\n",
    "    'TV': 'ТВ',\n",
    "    'Movie': 'Полнометражный фильм',\n",
    "    'OVA': 'OVA',\n",
    "    'Special': 'ТВ-спэшл',\n",
    "    'ONA': 'ONA',\n",
    "    'Music': 0,\n",
    "    'Unknown': 0\n",
    "}\n",
    "df.Type = df.Type.apply(lambda x: type_dict[x])\n",
    "df2 = df[(df.Type != 0) & (df.Aired != 'Unknown') & (df.Episodes != 'Unknown')]\n",
    "df2.Aired = df2.Aired.apply(lambda x: x if len(x) < 15 else x[:15])"
   ]
  },
  {
   "cell_type": "code",
   "execution_count": 202,
   "metadata": {},
   "outputs": [],
   "source": [
    "to_anime_name_list = [el.lower().strip() for el in df.Name.values]\n",
    "my_anime_name_list = my_anime.name_en.values\n",
    "to_set = set(to_anime_name_list)\n",
    "my_set = set(my_anime_name_list)\n",
    "name_name = my_set & to_set\n"
   ]
  },
  {
   "cell_type": "code",
   "execution_count": 203,
   "metadata": {},
   "outputs": [],
   "source": [
    "to_list = [\n",
    "    (\n",
    "        name.lower(),\n",
    "        int(re.findall(r'\\d{4,}', date)[0]) if re.findall(r'\\d{4,}', date) else 0,\n",
    "        Type,\n",
    "        int(Episodes)\n",
    "        )\\\n",
    "            for name, date, Type, Episodes in zip(\n",
    "                df2.Name.values,\n",
    "                df2.Aired.values,\n",
    "                df2.Type.values,\n",
    "                df2.Episodes.values\n",
    "                )\n",
    "                if name not in name_name\n",
    "]"
   ]
  },
  {
   "cell_type": "code",
   "execution_count": 204,
   "metadata": {},
   "outputs": [],
   "source": [
    "my_list = [\n",
    "    (name, int(date), Type, int(episode)) for name, date, Type, episode in zip(\n",
    "                my_anime.name_en.values,\n",
    "                my_anime.release.values,\n",
    "                my_anime.type.values,\n",
    "                my_anime.episodes_all.values\n",
    "                )\n",
    "                if name not in name_name\n",
    "]   "
   ]
  },
  {
   "cell_type": "code",
   "execution_count": 205,
   "metadata": {},
   "outputs": [],
   "source": [
    "df3 = pd.DataFrame(to_list)"
   ]
  },
  {
   "cell_type": "code",
   "execution_count": 206,
   "metadata": {},
   "outputs": [],
   "source": [
    "list_dict = {}\n",
    "\n",
    "for myName, myYear, myType, myEp in my_list:\n",
    "    list_ = []\n",
    "    name_list = list(df3[(df3[1] == myYear) & (df3[2] == myType) & (df3[3] == myEp)][0].values)\n",
    "    if name_list:\n",
    "        for word in myName.split():\n",
    "            for toName in name_list:\n",
    "                if word in toName:\n",
    "                    list_.append(toName)\n",
    "        if list_:\n",
    "            n, c = Counter(list_).most_common(1)[0]\n",
    "            list_dict.update({myName: n})"
   ]
  },
  {
   "cell_type": "code",
   "execution_count": 207,
   "metadata": {},
   "outputs": [],
   "source": [
    "list_duble = [el[0] for el in Counter(list_dict.values()).most_common(29)]\n",
    "not_duble = [(k, v) for k, v in list_dict.items() if v not in list_duble]\n",
    "duble = [(k, v) for k, v in list_dict.items() if v in list_duble]"
   ]
  },
  {
   "cell_type": "code",
   "execution_count": 208,
   "metadata": {},
   "outputs": [],
   "source": [
    "l = [\n",
    "    ('bokutachi wa benkyou ga dekinai 2nd season', 'bokutachi wa benkyou ga dekinai'),\n",
    "    ('gintama (2017)', 'gintama.'),\t\t\n",
    "    ('high school of the dead', 'highschool of the dead'),\t\t\n",
    "    ('ikoku meiro no croisee the animation', 'ikoku meiro no croisée the animation'),\t\t\n",
    "    ('kaitou joker 3nd season', 'kaitou joker 3rd season'),\t\n",
    "    ('kuroko no basuke 2', 'kuroko no basket 2nd season'),\t\t\n",
    "    ('uchuu senkan tiramisu', 'uchuu senkan tiramisù'),\t\t\n",
    "    ('yuru camp 2nd season', 'yuru camp△ season 2')\t\t\n",
    "]\n",
    "not_duble += l\n"
   ]
  },
  {
   "cell_type": "code",
   "execution_count": 209,
   "metadata": {},
   "outputs": [],
   "source": [
    "to_dict_encoder = {name.lower().strip() : id for name, id in zip(df.Name.values, df.index)}\n",
    "my_dict_encoder = {name : id for name, id in zip(my_anime.name_en.values, my_anime.anime_id.values)}"
   ]
  },
  {
   "cell_type": "code",
   "execution_count": 225,
   "metadata": {},
   "outputs": [],
   "source": [
    "result_dict = {}\n",
    "for name in name_name:\n",
    "    result_dict.update({my_dict_encoder[name] : to_dict_encoder[name]})\n",
    "\n",
    "for my, to in not_duble:\n",
    "    toId = to_dict_encoder[to]\n",
    "    if toId not in result_dict.values():\n",
    "        result_dict.update({my_dict_encoder[my] : to_dict_encoder[to]})"
   ]
  },
  {
   "cell_type": "code",
   "execution_count": 263,
   "metadata": {},
   "outputs": [],
   "source": [
    "inverted_result_dict = {v: k for k, v in result_dict.items()}"
   ]
  },
  {
   "cell_type": "code",
   "execution_count": 233,
   "metadata": {},
   "outputs": [],
   "source": [
    "rating_complete = pd.read_csv('rating_complete.csv')"
   ]
  },
  {
   "cell_type": "code",
   "execution_count": 284,
   "metadata": {},
   "outputs": [],
   "source": [
    "anime = pd.read_csv('anime.csv', index_col='MAL_ID')\n",
    "excess = list(set(anime.index) - set(result_dict.values()))\n",
    "anime = anime.drop(excess, axis = 0)\n",
    "anime.index = [inverted_result_dict[i] for i in anime.index]\n",
    "anime.to_csv('anime.csv')"
   ]
  },
  {
   "cell_type": "code",
   "execution_count": 285,
   "metadata": {},
   "outputs": [],
   "source": [
    "anime = pd.read_csv('anime_with_synopsis.csv', index_col='MAL_ID')\n",
    "excess = list(set(anime.index) - set(result_dict.values()))\n",
    "anime = anime.drop(excess, axis = 0)\n",
    "anime.index = [inverted_result_dict[i] for i in anime.index]\n",
    "anime.to_csv('anime_with_synopsis.csv')"
   ]
  },
  {
   "cell_type": "code",
   "execution_count": null,
   "metadata": {},
   "outputs": [],
   "source": [
    "anime = pd.read_csv('animelist.csv', index_col='anime_id')"
   ]
  },
  {
   "cell_type": "code",
   "execution_count": 288,
   "metadata": {},
   "outputs": [],
   "source": [
    "excess = list(set(anime.index) - set(result_dict.values()))\n",
    "anime = anime.drop(excess, axis = 0)\n",
    "anime.index = [inverted_result_dict[i] for i in anime.index]"
   ]
  },
  {
   "cell_type": "code",
   "execution_count": 289,
   "metadata": {},
   "outputs": [
    {
     "data": {
      "text/html": [
       "<div>\n",
       "<style scoped>\n",
       "    .dataframe tbody tr th:only-of-type {\n",
       "        vertical-align: middle;\n",
       "    }\n",
       "\n",
       "    .dataframe tbody tr th {\n",
       "        vertical-align: top;\n",
       "    }\n",
       "\n",
       "    .dataframe thead th {\n",
       "        text-align: right;\n",
       "    }\n",
       "</style>\n",
       "<table border=\"1\" class=\"dataframe\">\n",
       "  <thead>\n",
       "    <tr style=\"text-align: right;\">\n",
       "      <th></th>\n",
       "      <th>user_id</th>\n",
       "      <th>rating</th>\n",
       "      <th>watching_status</th>\n",
       "      <th>watched_episodes</th>\n",
       "    </tr>\n",
       "  </thead>\n",
       "  <tbody>\n",
       "    <tr>\n",
       "      <th>1318</th>\n",
       "      <td>0</td>\n",
       "      <td>9</td>\n",
       "      <td>1</td>\n",
       "      <td>1</td>\n",
       "    </tr>\n",
       "    <tr>\n",
       "      <th>649</th>\n",
       "      <td>0</td>\n",
       "      <td>7</td>\n",
       "      <td>1</td>\n",
       "      <td>4</td>\n",
       "    </tr>\n",
       "    <tr>\n",
       "      <th>1797</th>\n",
       "      <td>0</td>\n",
       "      <td>0</td>\n",
       "      <td>1</td>\n",
       "      <td>1</td>\n",
       "    </tr>\n",
       "    <tr>\n",
       "      <th>2710</th>\n",
       "      <td>0</td>\n",
       "      <td>10</td>\n",
       "      <td>1</td>\n",
       "      <td>0</td>\n",
       "    </tr>\n",
       "    <tr>\n",
       "      <th>585</th>\n",
       "      <td>0</td>\n",
       "      <td>9</td>\n",
       "      <td>1</td>\n",
       "      <td>5</td>\n",
       "    </tr>\n",
       "    <tr>\n",
       "      <th>...</th>\n",
       "      <td>...</td>\n",
       "      <td>...</td>\n",
       "      <td>...</td>\n",
       "      <td>...</td>\n",
       "    </tr>\n",
       "    <tr>\n",
       "      <th>1507</th>\n",
       "      <td>353404</td>\n",
       "      <td>10</td>\n",
       "      <td>1</td>\n",
       "      <td>77</td>\n",
       "    </tr>\n",
       "    <tr>\n",
       "      <th>1504</th>\n",
       "      <td>353404</td>\n",
       "      <td>9</td>\n",
       "      <td>2</td>\n",
       "      <td>153</td>\n",
       "    </tr>\n",
       "    <tr>\n",
       "      <th>1506</th>\n",
       "      <td>353404</td>\n",
       "      <td>8</td>\n",
       "      <td>2</td>\n",
       "      <td>64</td>\n",
       "    </tr>\n",
       "    <tr>\n",
       "      <th>1505</th>\n",
       "      <td>353404</td>\n",
       "      <td>9</td>\n",
       "      <td>2</td>\n",
       "      <td>291</td>\n",
       "    </tr>\n",
       "    <tr>\n",
       "      <th>356</th>\n",
       "      <td>353404</td>\n",
       "      <td>9</td>\n",
       "      <td>2</td>\n",
       "      <td>24</td>\n",
       "    </tr>\n",
       "  </tbody>\n",
       "</table>\n",
       "<p>66671514 rows × 4 columns</p>\n",
       "</div>"
      ],
      "text/plain": [
       "      user_id  rating  watching_status  watched_episodes\n",
       "1318        0       9                1                 1\n",
       "649         0       7                1                 4\n",
       "1797        0       0                1                 1\n",
       "2710        0      10                1                 0\n",
       "585         0       9                1                 5\n",
       "...       ...     ...              ...               ...\n",
       "1507   353404      10                1                77\n",
       "1504   353404       9                2               153\n",
       "1506   353404       8                2                64\n",
       "1505   353404       9                2               291\n",
       "356    353404       9                2                24\n",
       "\n",
       "[66671514 rows x 4 columns]"
      ]
     },
     "execution_count": 289,
     "metadata": {},
     "output_type": "execute_result"
    }
   ],
   "source": [
    "anime"
   ]
  },
  {
   "cell_type": "code",
   "execution_count": 290,
   "metadata": {},
   "outputs": [
    {
     "data": {
      "text/plain": [
       "<bound method DataFrame.info of       user_id  rating  watching_status  watched_episodes\n",
       "1318        0       9                1                 1\n",
       "649         0       7                1                 4\n",
       "1797        0       0                1                 1\n",
       "2710        0      10                1                 0\n",
       "585         0       9                1                 5\n",
       "...       ...     ...              ...               ...\n",
       "1507   353404      10                1                77\n",
       "1504   353404       9                2               153\n",
       "1506   353404       8                2                64\n",
       "1505   353404       9                2               291\n",
       "356    353404       9                2                24\n",
       "\n",
       "[66671514 rows x 4 columns]>"
      ]
     },
     "execution_count": 290,
     "metadata": {},
     "output_type": "execute_result"
    }
   ],
   "source": [
    "anime.info"
   ]
  },
  {
   "cell_type": "code",
   "execution_count": 291,
   "metadata": {},
   "outputs": [
    {
     "data": {
      "text/plain": [
       "<bound method DataFrame.info of           user_id  rating\n",
       "anime_id                 \n",
       "430             0       9\n",
       "1004            0       5\n",
       "3010            0       7\n",
       "570             0       7\n",
       "2762            0       9\n",
       "...           ...     ...\n",
       "502        353404       8\n",
       "987        353404       4\n",
       "225        353404       8\n",
       "243        353404       7\n",
       "896        353404       7\n",
       "\n",
       "[57633278 rows x 2 columns]>"
      ]
     },
     "execution_count": 291,
     "metadata": {},
     "output_type": "execute_result"
    }
   ],
   "source": [
    "anime.to_csv('animelist.csv')\n",
    "anime = pd.read_csv('rating_complete.csv', index_col='anime_id')\n",
    "anime.info"
   ]
  },
  {
   "cell_type": "code",
   "execution_count": 292,
   "metadata": {},
   "outputs": [],
   "source": [
    "excess = list(set(anime.index) - set(result_dict.values()))\n",
    "anime = anime.drop(excess, axis = 0)\n",
    "anime.index = [inverted_result_dict[i] for i in anime.index]\n",
    "anime.info\n",
    "anime.to_csv('rating_complete.csv')"
   ]
  },
  {
   "cell_type": "code",
   "execution_count": 293,
   "metadata": {},
   "outputs": [
    {
     "data": {
      "text/plain": [
       "2152"
      ]
     },
     "execution_count": 293,
     "metadata": {},
     "output_type": "execute_result"
    }
   ],
   "source": []
  }
 ],
 "metadata": {
  "interpreter": {
   "hash": "03130e1e88e13a032f69981c32da9b604f050f5857d0cf25fc1ed9951001c58f"
  },
  "kernelspec": {
   "display_name": "Python 3.8.10 ('venv': venv)",
   "language": "python",
   "name": "python3"
  },
  "language_info": {
   "codemirror_mode": {
    "name": "ipython",
    "version": 3
   },
   "file_extension": ".py",
   "mimetype": "text/x-python",
   "name": "python",
   "nbconvert_exporter": "python",
   "pygments_lexer": "ipython3",
   "version": "3.8.10"
  },
  "orig_nbformat": 4
 },
 "nbformat": 4,
 "nbformat_minor": 2
}
