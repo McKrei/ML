{
 "cells": [
  {
   "cell_type": "code",
   "execution_count": 1,
   "metadata": {},
   "outputs": [
    {
     "name": "stdout",
     "output_type": "stream",
     "text": [
      "\n"
     ]
    }
   ],
   "source": [
    "# Пример решения с использованием статистического подхода - подсчет \n",
    "# совстречаемостей.\n",
    "\n",
    "from sklearn.model_selection import train_test_split\n",
    "import pandas as pd\n",
    "import numpy as np\n",
    "import gc\n",
    "\n",
    "from collections import Counter\n",
    "\n",
    "hist_data = pd.read_csv('data/hist_data.csv')\n",
    "test = pd.read_csv('data/test.csv')\n",
    "hist_data = pd.concat([hist_data.iloc[:, :-1], test])\n",
    "\n",
    "# соберем словарь встречаемостей - какие item_id покупались чаще с \n",
    "# каждым item_id \n",
    "tmp = (\n",
    "    hist_data[['item_id', 'pav_order_id']]\n",
    "    .sort_values(['item_id', 'pav_order_id'])\n",
    "    .merge(hist_data[['item_id', 'pav_order_id']], how='left', on=['pav_order_id'], suffixes=('', '_left'))\n",
    ")\n",
    "tmp = tmp[tmp['item_id'] != tmp['item_id_left']].copy()\n",
    "tmp1 = tmp.groupby(['item_id'])['item_id_left'].agg(lambda x: Counter(x).most_common(10))\n",
    "\n",
    "most_freq_dict = {k: v for (k, v) in tmp1.iteritems()}\n",
    "\n",
    "del tmp1, tmp\n",
    "gc.collect()\n",
    "\n",
    "test = pd.read_csv('data/test.csv')\n",
    "\n",
    "# из списка кандидатов по совстречаемости удаляем повторяющиеся item_id, \n",
    "# сохраняя порядок\n",
    "def get_unique_recs(recs: list, top_n: int) -> list:\n",
    "    rec_dict = {}\n",
    "    counter = 0\n",
    "    for k, v in recs:\n",
    "        if k not in rec_dict:\n",
    "            rec_dict[k] = v\n",
    "            counter += 1\n",
    "        if counter == top_n:\n",
    "            break\n",
    "    return list(rec_dict.keys())\n",
    "\n",
    "def rec_by_item(item_id: int, most_freq_dict: dict) -> list:\n",
    "    \n",
    "    return most_freq_dict.get(item_id, None)\n",
    "\n",
    "# для каждого item_id соберем top_n самых часто встречающихся item_id, \n",
    "# отсортируем по частоте и выберем уникальные\n",
    "def rec_by_basket(basket: list, most_freq_dict: dict, top_n: int = 20) -> list:\n",
    "    \n",
    "    res = []\n",
    "    for item in basket:\n",
    "        recs = rec_by_item(item, most_freq_dict)\n",
    "        if recs is not None:\n",
    "            res += recs\n",
    "    \n",
    "    res = sorted(res, key=lambda x: x[1], reverse=True)\n",
    "    \n",
    "    return get_unique_recs(res, top_n)\n",
    "\n",
    "pred = test.groupby(['pav_order_id'])['item_id'].agg([('basket', list)])\n",
    "pred['preds'] = pred['basket'].map(lambda x: rec_by_basket(x, most_freq_dict=most_freq_dict))\n",
    "\n",
    "pred['preds'].to_csv('pred.csv')"
   ]
  },
  {
   "cell_type": "code",
   "execution_count": 2,
   "metadata": {},
   "outputs": [
    {
     "name": "stdout",
     "output_type": "stream",
     "text": [
      "0.34481132996828945\n"
     ]
    }
   ],
   "source": [
    "def split_data(data, test_size=0.3):\n",
    "    orders_sort = data[['pav_order_id', 'created']].drop_duplicates().sort_values(by=['created', 'pav_order_id'])\n",
    "    train_orders, test_orders = train_test_split(orders_sort['pav_order_id'].tolist(), test_size=test_size, shuffle=False)\n",
    "    train_orders, test_orders = set(train_orders), set(test_orders)\n",
    "    train = data[data['pav_order_id'].apply(lambda x: x in train_orders)]\n",
    "    test = data[data['pav_order_id'].apply(lambda x: x in test_orders)]\n",
    "    return train, test, orders_sort, train_orders, test_orders\n",
    "\n",
    "# из списка кандидатов по совстречаемости удаляем повторяющиеся item_id, сохраняя порядок\n",
    "def get_unique_recs(recs: list, top_n: int) -> list:\n",
    "    rec_dict = {}\n",
    "    counter = 0\n",
    "    for k, v in recs:\n",
    "        if k not in rec_dict:\n",
    "            rec_dict[k] = v\n",
    "            counter += 1\n",
    "        if counter == top_n:\n",
    "            break\n",
    "    return list(rec_dict.keys())\n",
    "\n",
    "def rec_by_item(item_id: int, most_freq_dict: dict) -> list:\n",
    "    \n",
    "    return most_freq_dict.get(item_id, None)\n",
    "\n",
    "# для каждого item_id соберем top_n самых часто встречающихся item_id, отсортируем по частоте и выберем уникальные\n",
    "def rec_by_basket(basket: list, most_freq_dict: dict, top_n: int = 20) -> list:\n",
    "    \n",
    "    res = []\n",
    "    for item in basket:\n",
    "        recs = rec_by_item(item, most_freq_dict)\n",
    "        if recs is not None:\n",
    "            res += recs\n",
    "    \n",
    "    res = sorted(res, key=lambda x: x[1], reverse=True)\n",
    "    \n",
    "    return get_unique_recs(res, top_n)\n",
    "\n",
    "# метрики оцениваются для вектора релевантности. пример:\n",
    "# реальные item_id, которые приобрел покупатель: [1 ,4, 5, 69]\n",
    "# рекомендованные алгоритмом item_id: [4, 6, 7, 8, 1, 2, 67, 90]\n",
    "# тогда вектор релеватности будет выглядеть следующим образом: [1, 0, 0, 0, 1, 0, 0, 0]\n",
    "# и уже по не му будет расчитываться ndcg\n",
    "def dcg(y_relevance: np.ndarray) -> float:\n",
    "    \n",
    "    return np.sum([(2**i - 1) / np.log2(k + 1) for (k, i) in enumerate(y_relevance, start=1)])\n",
    "\n",
    "def ndcg(y_relevance: np.ndarray, k: int) -> float:\n",
    "\n",
    "    if y_relevance.sum() == 0:\n",
    "        return 0.0\n",
    "    DCG = dcg(y_relevance[:k])\n",
    "    IDCG = dcg(-np.sort(-y_relevance)[:k])\n",
    "    return DCG / IDCG\n",
    "\n",
    "def apply_relevance(x):\n",
    "    return [int(item in x['basket']) for item in x['preds']]\n",
    "\n",
    "def create_relevance(pred):\n",
    "    d = pred.copy()\n",
    "    d['basket'] = d['basket'].apply(set)\n",
    "    d = d.apply(apply_relevance, axis=1)\n",
    "    return d\n",
    "\n",
    "def ndcg_full_dataset(d):\n",
    "    dd = pd.DataFrame(d.to_list()).fillna(0).to_numpy()\n",
    "    k = dd.shape[1]\n",
    "    scores = [ndcg(dd[i], k) for i in range(len(dd))]\n",
    "    return np.mean(scores)\n",
    "\n",
    "def compute_ndcg_score(pred):\n",
    "    relevance = create_relevance(pred)\n",
    "    return ndcg_full_dataset(relevance)\n",
    "\n",
    "def make_coocurs_dict(train_data):\n",
    "    tmp = (\n",
    "        train_data[['item_id', 'pav_order_id']]\n",
    "        .sort_values(['item_id', 'pav_order_id'])\n",
    "        .merge(train_data[['item_id', 'pav_order_id']], how='left', on=['pav_order_id'], suffixes=('', '_left'))\n",
    "    )\n",
    "    tmp = tmp[tmp['item_id'] != tmp['item_id_left']].copy()\n",
    "    tmp1 = tmp.groupby(['item_id'])['item_id_left'].agg(lambda x: Counter(x).most_common(10))\n",
    "\n",
    "    most_freq_dict = {k: v for (k, v) in tmp1.iteritems()}\n",
    "\n",
    "    del tmp1, tmp\n",
    "    gc.collect()\n",
    "    return most_freq_dict\n",
    "\n",
    "def create_basket(test_data):\n",
    "    pred = test_data.groupby(['pav_order_id'])['item_id'].agg([('basket', list)])\n",
    "    return pred\n",
    "\n",
    "def make_predictions(test_data, most_freq_dict):\n",
    "    pred = create_basket(test_data)\n",
    "    pred['preds'] = pred['basket'].map(lambda x: rec_by_basket(x, most_freq_dict=most_freq_dict))\n",
    "    return pred\n",
    "\n",
    "\n",
    "# считываем исторические данные\n",
    "data = pd.read_csv(\"data/hist_data.csv\", parse_dates=['created'])\n",
    "\n",
    "# разобьем историю в отношении 70 на 30 для трейна и валидации\n",
    "train_data, test_data, orders_sort, train_orders, test_orders = split_data(data)\n",
    "\n",
    "# соберем словарь встречаемостей - какие item_id покупались чаще с каждым item_id \n",
    "most_freq_dict = make_coocurs_dict(train_data)\n",
    "# предсказываем\n",
    "pred2 = make_predictions(test_data, most_freq_dict)\n",
    "# pred.to_csv(\"preds_on_splitted_hist_data.csv\")\n",
    "\n",
    "# посчитаем скор для всего набора предсказаний\n",
    "d_score = compute_ndcg_score(pred2)\n",
    "print(d_score)"
   ]
  },
  {
   "cell_type": "code",
   "execution_count": 3,
   "metadata": {},
   "outputs": [
    {
     "data": {
      "text/plain": [
       "0.27506719188448725"
      ]
     },
     "execution_count": 3,
     "metadata": {},
     "output_type": "execute_result"
    }
   ],
   "source": [
    "compute_ndcg_score(pred)"
   ]
  },
  {
   "cell_type": "code",
   "execution_count": 25,
   "metadata": {},
   "outputs": [],
   "source": [
    "pred_r = make_predictions(test, most_freq_dict)"
   ]
  },
  {
   "cell_type": "code",
   "execution_count": 31,
   "metadata": {},
   "outputs": [],
   "source": [
    "# pred_r['preds'].to_csv('pred.csv')"
   ]
  },
  {
   "cell_type": "code",
   "execution_count": 8,
   "metadata": {},
   "outputs": [
    {
     "data": {
      "text/plain": [
       "'Himer'"
      ]
     },
     "execution_count": 8,
     "metadata": {},
     "output_type": "execute_result"
    }
   ],
   "source": [
    "json = [\n",
    " {\n",
    "  \"result\": [\n",
    "   {\n",
    "    \"avatar\": \"https://userpic.codeforces.org/no-avatar.jpg\",\n",
    "    \"city\": \"Vladikavkaz\",\n",
    "    \"contribution\": 0,\n",
    "    \"country\": \"Russia\",\n",
    "    \"firstName\": \"David\",\n",
    "    \"friendOfCount\": 4,\n",
    "    \"handle\": \"Himer\",\n",
    "    \"lastName\": \"Laliev\",\n",
    "    \"lastOnlineTimeSeconds\": 1645632362,\n",
    "    \"maxRank\": \"pupil\",\n",
    "    \"maxRating\": 1392,\n",
    "    \"organization\": \"NOSU\",\n",
    "    \"rank\": \"newbie\",\n",
    "    \"rating\": 1085,\n",
    "    \"registrationTimeSeconds\": 1507717495,\n",
    "    \"titlePhoto\": \"https://userpic.codeforces.org/no-title.jpg\"\n",
    "   }\n",
    "  ],\n",
    "  \"status\": \"OK\"\n",
    " }]\n",
    "json[0][\"result\"][0][\"handle\"]"
   ]
  },
  {
   "cell_type": "code",
   "execution_count": 10,
   "metadata": {},
   "outputs": [
    {
     "ename": "ValueError",
     "evalue": "Invalid file path or buffer object type: <class 'list'>",
     "output_type": "error",
     "traceback": [
      "\u001b[1;31m---------------------------------------------------------------------------\u001b[0m",
      "\u001b[1;31mValueError\u001b[0m                                Traceback (most recent call last)",
      "\u001b[1;32mc:\\my\\ML\\lenta\\baseline.ipynb Cell 7'\u001b[0m in \u001b[0;36m<cell line: 2>\u001b[1;34m()\u001b[0m\n\u001b[0;32m      <a href='vscode-notebook-cell:/c%3A/my/ML/lenta/baseline.ipynb#ch0000007?line=0'>1</a>\u001b[0m \u001b[39mimport\u001b[39;00m \u001b[39mpandas\u001b[39;00m \u001b[39mas\u001b[39;00m \u001b[39mpd\u001b[39;00m\n\u001b[1;32m----> <a href='vscode-notebook-cell:/c%3A/my/ML/lenta/baseline.ipynb#ch0000007?line=1'>2</a>\u001b[0m df \u001b[39m=\u001b[39m pd\u001b[39m.\u001b[39;49mread_json(json)\n",
      "File \u001b[1;32mc:\\my\\ML\\venv\\lib\\site-packages\\pandas\\util\\_decorators.py:207\u001b[0m, in \u001b[0;36mdeprecate_kwarg.<locals>._deprecate_kwarg.<locals>.wrapper\u001b[1;34m(*args, **kwargs)\u001b[0m\n\u001b[0;32m    <a href='file:///c%3A/my/ML/venv/lib/site-packages/pandas/util/_decorators.py?line=204'>205</a>\u001b[0m     \u001b[39melse\u001b[39;00m:\n\u001b[0;32m    <a href='file:///c%3A/my/ML/venv/lib/site-packages/pandas/util/_decorators.py?line=205'>206</a>\u001b[0m         kwargs[new_arg_name] \u001b[39m=\u001b[39m new_arg_value\n\u001b[1;32m--> <a href='file:///c%3A/my/ML/venv/lib/site-packages/pandas/util/_decorators.py?line=206'>207</a>\u001b[0m \u001b[39mreturn\u001b[39;00m func(\u001b[39m*\u001b[39;49margs, \u001b[39m*\u001b[39;49m\u001b[39m*\u001b[39;49mkwargs)\n",
      "File \u001b[1;32mc:\\my\\ML\\venv\\lib\\site-packages\\pandas\\util\\_decorators.py:311\u001b[0m, in \u001b[0;36mdeprecate_nonkeyword_arguments.<locals>.decorate.<locals>.wrapper\u001b[1;34m(*args, **kwargs)\u001b[0m\n\u001b[0;32m    <a href='file:///c%3A/my/ML/venv/lib/site-packages/pandas/util/_decorators.py?line=304'>305</a>\u001b[0m \u001b[39mif\u001b[39;00m \u001b[39mlen\u001b[39m(args) \u001b[39m>\u001b[39m num_allow_args:\n\u001b[0;32m    <a href='file:///c%3A/my/ML/venv/lib/site-packages/pandas/util/_decorators.py?line=305'>306</a>\u001b[0m     warnings\u001b[39m.\u001b[39mwarn(\n\u001b[0;32m    <a href='file:///c%3A/my/ML/venv/lib/site-packages/pandas/util/_decorators.py?line=306'>307</a>\u001b[0m         msg\u001b[39m.\u001b[39mformat(arguments\u001b[39m=\u001b[39marguments),\n\u001b[0;32m    <a href='file:///c%3A/my/ML/venv/lib/site-packages/pandas/util/_decorators.py?line=307'>308</a>\u001b[0m         \u001b[39mFutureWarning\u001b[39;00m,\n\u001b[0;32m    <a href='file:///c%3A/my/ML/venv/lib/site-packages/pandas/util/_decorators.py?line=308'>309</a>\u001b[0m         stacklevel\u001b[39m=\u001b[39mstacklevel,\n\u001b[0;32m    <a href='file:///c%3A/my/ML/venv/lib/site-packages/pandas/util/_decorators.py?line=309'>310</a>\u001b[0m     )\n\u001b[1;32m--> <a href='file:///c%3A/my/ML/venv/lib/site-packages/pandas/util/_decorators.py?line=310'>311</a>\u001b[0m \u001b[39mreturn\u001b[39;00m func(\u001b[39m*\u001b[39;49margs, \u001b[39m*\u001b[39;49m\u001b[39m*\u001b[39;49mkwargs)\n",
      "File \u001b[1;32mc:\\my\\ML\\venv\\lib\\site-packages\\pandas\\io\\json\\_json.py:588\u001b[0m, in \u001b[0;36mread_json\u001b[1;34m(path_or_buf, orient, typ, dtype, convert_axes, convert_dates, keep_default_dates, numpy, precise_float, date_unit, encoding, encoding_errors, lines, chunksize, compression, nrows, storage_options)\u001b[0m\n\u001b[0;32m    <a href='file:///c%3A/my/ML/venv/lib/site-packages/pandas/io/json/_json.py?line=584'>585</a>\u001b[0m \u001b[39mif\u001b[39;00m convert_axes \u001b[39mis\u001b[39;00m \u001b[39mNone\u001b[39;00m \u001b[39mand\u001b[39;00m orient \u001b[39m!=\u001b[39m \u001b[39m\"\u001b[39m\u001b[39mtable\u001b[39m\u001b[39m\"\u001b[39m:\n\u001b[0;32m    <a href='file:///c%3A/my/ML/venv/lib/site-packages/pandas/io/json/_json.py?line=585'>586</a>\u001b[0m     convert_axes \u001b[39m=\u001b[39m \u001b[39mTrue\u001b[39;00m\n\u001b[1;32m--> <a href='file:///c%3A/my/ML/venv/lib/site-packages/pandas/io/json/_json.py?line=587'>588</a>\u001b[0m json_reader \u001b[39m=\u001b[39m JsonReader(\n\u001b[0;32m    <a href='file:///c%3A/my/ML/venv/lib/site-packages/pandas/io/json/_json.py?line=588'>589</a>\u001b[0m     path_or_buf,\n\u001b[0;32m    <a href='file:///c%3A/my/ML/venv/lib/site-packages/pandas/io/json/_json.py?line=589'>590</a>\u001b[0m     orient\u001b[39m=\u001b[39;49morient,\n\u001b[0;32m    <a href='file:///c%3A/my/ML/venv/lib/site-packages/pandas/io/json/_json.py?line=590'>591</a>\u001b[0m     typ\u001b[39m=\u001b[39;49mtyp,\n\u001b[0;32m    <a href='file:///c%3A/my/ML/venv/lib/site-packages/pandas/io/json/_json.py?line=591'>592</a>\u001b[0m     dtype\u001b[39m=\u001b[39;49mdtype,\n\u001b[0;32m    <a href='file:///c%3A/my/ML/venv/lib/site-packages/pandas/io/json/_json.py?line=592'>593</a>\u001b[0m     convert_axes\u001b[39m=\u001b[39;49mconvert_axes,\n\u001b[0;32m    <a href='file:///c%3A/my/ML/venv/lib/site-packages/pandas/io/json/_json.py?line=593'>594</a>\u001b[0m     convert_dates\u001b[39m=\u001b[39;49mconvert_dates,\n\u001b[0;32m    <a href='file:///c%3A/my/ML/venv/lib/site-packages/pandas/io/json/_json.py?line=594'>595</a>\u001b[0m     keep_default_dates\u001b[39m=\u001b[39;49mkeep_default_dates,\n\u001b[0;32m    <a href='file:///c%3A/my/ML/venv/lib/site-packages/pandas/io/json/_json.py?line=595'>596</a>\u001b[0m     numpy\u001b[39m=\u001b[39;49mnumpy,\n\u001b[0;32m    <a href='file:///c%3A/my/ML/venv/lib/site-packages/pandas/io/json/_json.py?line=596'>597</a>\u001b[0m     precise_float\u001b[39m=\u001b[39;49mprecise_float,\n\u001b[0;32m    <a href='file:///c%3A/my/ML/venv/lib/site-packages/pandas/io/json/_json.py?line=597'>598</a>\u001b[0m     date_unit\u001b[39m=\u001b[39;49mdate_unit,\n\u001b[0;32m    <a href='file:///c%3A/my/ML/venv/lib/site-packages/pandas/io/json/_json.py?line=598'>599</a>\u001b[0m     encoding\u001b[39m=\u001b[39;49mencoding,\n\u001b[0;32m    <a href='file:///c%3A/my/ML/venv/lib/site-packages/pandas/io/json/_json.py?line=599'>600</a>\u001b[0m     lines\u001b[39m=\u001b[39;49mlines,\n\u001b[0;32m    <a href='file:///c%3A/my/ML/venv/lib/site-packages/pandas/io/json/_json.py?line=600'>601</a>\u001b[0m     chunksize\u001b[39m=\u001b[39;49mchunksize,\n\u001b[0;32m    <a href='file:///c%3A/my/ML/venv/lib/site-packages/pandas/io/json/_json.py?line=601'>602</a>\u001b[0m     compression\u001b[39m=\u001b[39;49mcompression,\n\u001b[0;32m    <a href='file:///c%3A/my/ML/venv/lib/site-packages/pandas/io/json/_json.py?line=602'>603</a>\u001b[0m     nrows\u001b[39m=\u001b[39;49mnrows,\n\u001b[0;32m    <a href='file:///c%3A/my/ML/venv/lib/site-packages/pandas/io/json/_json.py?line=603'>604</a>\u001b[0m     storage_options\u001b[39m=\u001b[39;49mstorage_options,\n\u001b[0;32m    <a href='file:///c%3A/my/ML/venv/lib/site-packages/pandas/io/json/_json.py?line=604'>605</a>\u001b[0m     encoding_errors\u001b[39m=\u001b[39;49mencoding_errors,\n\u001b[0;32m    <a href='file:///c%3A/my/ML/venv/lib/site-packages/pandas/io/json/_json.py?line=605'>606</a>\u001b[0m )\n\u001b[0;32m    <a href='file:///c%3A/my/ML/venv/lib/site-packages/pandas/io/json/_json.py?line=607'>608</a>\u001b[0m \u001b[39mif\u001b[39;00m chunksize:\n\u001b[0;32m    <a href='file:///c%3A/my/ML/venv/lib/site-packages/pandas/io/json/_json.py?line=608'>609</a>\u001b[0m     \u001b[39mreturn\u001b[39;00m json_reader\n",
      "File \u001b[1;32mc:\\my\\ML\\venv\\lib\\site-packages\\pandas\\io\\json\\_json.py:673\u001b[0m, in \u001b[0;36mJsonReader.__init__\u001b[1;34m(self, filepath_or_buffer, orient, typ, dtype, convert_axes, convert_dates, keep_default_dates, numpy, precise_float, date_unit, encoding, lines, chunksize, compression, nrows, storage_options, encoding_errors)\u001b[0m\n\u001b[0;32m    <a href='file:///c%3A/my/ML/venv/lib/site-packages/pandas/io/json/_json.py?line=669'>670</a>\u001b[0m     \u001b[39mif\u001b[39;00m \u001b[39mnot\u001b[39;00m \u001b[39mself\u001b[39m\u001b[39m.\u001b[39mlines:\n\u001b[0;32m    <a href='file:///c%3A/my/ML/venv/lib/site-packages/pandas/io/json/_json.py?line=670'>671</a>\u001b[0m         \u001b[39mraise\u001b[39;00m \u001b[39mValueError\u001b[39;00m(\u001b[39m\"\u001b[39m\u001b[39mnrows can only be passed if lines=True\u001b[39m\u001b[39m\"\u001b[39m)\n\u001b[1;32m--> <a href='file:///c%3A/my/ML/venv/lib/site-packages/pandas/io/json/_json.py?line=672'>673</a>\u001b[0m data \u001b[39m=\u001b[39m \u001b[39mself\u001b[39;49m\u001b[39m.\u001b[39;49m_get_data_from_filepath(filepath_or_buffer)\n\u001b[0;32m    <a href='file:///c%3A/my/ML/venv/lib/site-packages/pandas/io/json/_json.py?line=673'>674</a>\u001b[0m \u001b[39mself\u001b[39m\u001b[39m.\u001b[39mdata \u001b[39m=\u001b[39m \u001b[39mself\u001b[39m\u001b[39m.\u001b[39m_preprocess_data(data)\n",
      "File \u001b[1;32mc:\\my\\ML\\venv\\lib\\site-packages\\pandas\\io\\json\\_json.py:710\u001b[0m, in \u001b[0;36mJsonReader._get_data_from_filepath\u001b[1;34m(self, filepath_or_buffer)\u001b[0m\n\u001b[0;32m    <a href='file:///c%3A/my/ML/venv/lib/site-packages/pandas/io/json/_json.py?line=702'>703</a>\u001b[0m filepath_or_buffer \u001b[39m=\u001b[39m stringify_path(filepath_or_buffer)\n\u001b[0;32m    <a href='file:///c%3A/my/ML/venv/lib/site-packages/pandas/io/json/_json.py?line=703'>704</a>\u001b[0m \u001b[39mif\u001b[39;00m (\n\u001b[0;32m    <a href='file:///c%3A/my/ML/venv/lib/site-packages/pandas/io/json/_json.py?line=704'>705</a>\u001b[0m     \u001b[39mnot\u001b[39;00m \u001b[39misinstance\u001b[39m(filepath_or_buffer, \u001b[39mstr\u001b[39m)\n\u001b[0;32m    <a href='file:///c%3A/my/ML/venv/lib/site-packages/pandas/io/json/_json.py?line=705'>706</a>\u001b[0m     \u001b[39mor\u001b[39;00m is_url(filepath_or_buffer)\n\u001b[0;32m    <a href='file:///c%3A/my/ML/venv/lib/site-packages/pandas/io/json/_json.py?line=706'>707</a>\u001b[0m     \u001b[39mor\u001b[39;00m is_fsspec_url(filepath_or_buffer)\n\u001b[0;32m    <a href='file:///c%3A/my/ML/venv/lib/site-packages/pandas/io/json/_json.py?line=707'>708</a>\u001b[0m     \u001b[39mor\u001b[39;00m file_exists(filepath_or_buffer)\n\u001b[0;32m    <a href='file:///c%3A/my/ML/venv/lib/site-packages/pandas/io/json/_json.py?line=708'>709</a>\u001b[0m ):\n\u001b[1;32m--> <a href='file:///c%3A/my/ML/venv/lib/site-packages/pandas/io/json/_json.py?line=709'>710</a>\u001b[0m     \u001b[39mself\u001b[39m\u001b[39m.\u001b[39mhandles \u001b[39m=\u001b[39m get_handle(\n\u001b[0;32m    <a href='file:///c%3A/my/ML/venv/lib/site-packages/pandas/io/json/_json.py?line=710'>711</a>\u001b[0m         filepath_or_buffer,\n\u001b[0;32m    <a href='file:///c%3A/my/ML/venv/lib/site-packages/pandas/io/json/_json.py?line=711'>712</a>\u001b[0m         \u001b[39m\"\u001b[39;49m\u001b[39mr\u001b[39;49m\u001b[39m\"\u001b[39;49m,\n\u001b[0;32m    <a href='file:///c%3A/my/ML/venv/lib/site-packages/pandas/io/json/_json.py?line=712'>713</a>\u001b[0m         encoding\u001b[39m=\u001b[39;49m\u001b[39mself\u001b[39;49m\u001b[39m.\u001b[39;49mencoding,\n\u001b[0;32m    <a href='file:///c%3A/my/ML/venv/lib/site-packages/pandas/io/json/_json.py?line=713'>714</a>\u001b[0m         compression\u001b[39m=\u001b[39;49m\u001b[39mself\u001b[39;49m\u001b[39m.\u001b[39;49mcompression,\n\u001b[0;32m    <a href='file:///c%3A/my/ML/venv/lib/site-packages/pandas/io/json/_json.py?line=714'>715</a>\u001b[0m         storage_options\u001b[39m=\u001b[39;49m\u001b[39mself\u001b[39;49m\u001b[39m.\u001b[39;49mstorage_options,\n\u001b[0;32m    <a href='file:///c%3A/my/ML/venv/lib/site-packages/pandas/io/json/_json.py?line=715'>716</a>\u001b[0m         errors\u001b[39m=\u001b[39;49m\u001b[39mself\u001b[39;49m\u001b[39m.\u001b[39;49mencoding_errors,\n\u001b[0;32m    <a href='file:///c%3A/my/ML/venv/lib/site-packages/pandas/io/json/_json.py?line=716'>717</a>\u001b[0m     )\n\u001b[0;32m    <a href='file:///c%3A/my/ML/venv/lib/site-packages/pandas/io/json/_json.py?line=717'>718</a>\u001b[0m     filepath_or_buffer \u001b[39m=\u001b[39m \u001b[39mself\u001b[39m\u001b[39m.\u001b[39mhandles\u001b[39m.\u001b[39mhandle\n\u001b[0;32m    <a href='file:///c%3A/my/ML/venv/lib/site-packages/pandas/io/json/_json.py?line=719'>720</a>\u001b[0m \u001b[39mreturn\u001b[39;00m filepath_or_buffer\n",
      "File \u001b[1;32mc:\\my\\ML\\venv\\lib\\site-packages\\pandas\\io\\common.py:670\u001b[0m, in \u001b[0;36mget_handle\u001b[1;34m(path_or_buf, mode, encoding, compression, memory_map, is_text, errors, storage_options)\u001b[0m\n\u001b[0;32m    <a href='file:///c%3A/my/ML/venv/lib/site-packages/pandas/io/common.py?line=666'>667</a>\u001b[0m     codecs\u001b[39m.\u001b[39mlookup_error(errors)\n\u001b[0;32m    <a href='file:///c%3A/my/ML/venv/lib/site-packages/pandas/io/common.py?line=668'>669</a>\u001b[0m \u001b[39m# open URLs\u001b[39;00m\n\u001b[1;32m--> <a href='file:///c%3A/my/ML/venv/lib/site-packages/pandas/io/common.py?line=669'>670</a>\u001b[0m ioargs \u001b[39m=\u001b[39m _get_filepath_or_buffer(\n\u001b[0;32m    <a href='file:///c%3A/my/ML/venv/lib/site-packages/pandas/io/common.py?line=670'>671</a>\u001b[0m     path_or_buf,\n\u001b[0;32m    <a href='file:///c%3A/my/ML/venv/lib/site-packages/pandas/io/common.py?line=671'>672</a>\u001b[0m     encoding\u001b[39m=\u001b[39;49mencoding,\n\u001b[0;32m    <a href='file:///c%3A/my/ML/venv/lib/site-packages/pandas/io/common.py?line=672'>673</a>\u001b[0m     compression\u001b[39m=\u001b[39;49mcompression,\n\u001b[0;32m    <a href='file:///c%3A/my/ML/venv/lib/site-packages/pandas/io/common.py?line=673'>674</a>\u001b[0m     mode\u001b[39m=\u001b[39;49mmode,\n\u001b[0;32m    <a href='file:///c%3A/my/ML/venv/lib/site-packages/pandas/io/common.py?line=674'>675</a>\u001b[0m     storage_options\u001b[39m=\u001b[39;49mstorage_options,\n\u001b[0;32m    <a href='file:///c%3A/my/ML/venv/lib/site-packages/pandas/io/common.py?line=675'>676</a>\u001b[0m )\n\u001b[0;32m    <a href='file:///c%3A/my/ML/venv/lib/site-packages/pandas/io/common.py?line=677'>678</a>\u001b[0m handle \u001b[39m=\u001b[39m ioargs\u001b[39m.\u001b[39mfilepath_or_buffer\n\u001b[0;32m    <a href='file:///c%3A/my/ML/venv/lib/site-packages/pandas/io/common.py?line=678'>679</a>\u001b[0m handles: \u001b[39mlist\u001b[39m[BaseBuffer]\n",
      "File \u001b[1;32mc:\\my\\ML\\venv\\lib\\site-packages\\pandas\\io\\common.py:427\u001b[0m, in \u001b[0;36m_get_filepath_or_buffer\u001b[1;34m(filepath_or_buffer, encoding, compression, mode, storage_options)\u001b[0m\n\u001b[0;32m    <a href='file:///c%3A/my/ML/venv/lib/site-packages/pandas/io/common.py?line=422'>423</a>\u001b[0m \u001b[39mif\u001b[39;00m \u001b[39mnot\u001b[39;00m (\n\u001b[0;32m    <a href='file:///c%3A/my/ML/venv/lib/site-packages/pandas/io/common.py?line=423'>424</a>\u001b[0m     \u001b[39mhasattr\u001b[39m(filepath_or_buffer, \u001b[39m\"\u001b[39m\u001b[39mread\u001b[39m\u001b[39m\"\u001b[39m) \u001b[39mor\u001b[39;00m \u001b[39mhasattr\u001b[39m(filepath_or_buffer, \u001b[39m\"\u001b[39m\u001b[39mwrite\u001b[39m\u001b[39m\"\u001b[39m)\n\u001b[0;32m    <a href='file:///c%3A/my/ML/venv/lib/site-packages/pandas/io/common.py?line=424'>425</a>\u001b[0m ):\n\u001b[0;32m    <a href='file:///c%3A/my/ML/venv/lib/site-packages/pandas/io/common.py?line=425'>426</a>\u001b[0m     msg \u001b[39m=\u001b[39m \u001b[39mf\u001b[39m\u001b[39m\"\u001b[39m\u001b[39mInvalid file path or buffer object type: \u001b[39m\u001b[39m{\u001b[39;00m\u001b[39mtype\u001b[39m(filepath_or_buffer)\u001b[39m}\u001b[39;00m\u001b[39m\"\u001b[39m\n\u001b[1;32m--> <a href='file:///c%3A/my/ML/venv/lib/site-packages/pandas/io/common.py?line=426'>427</a>\u001b[0m     \u001b[39mraise\u001b[39;00m \u001b[39mValueError\u001b[39;00m(msg)\n\u001b[0;32m    <a href='file:///c%3A/my/ML/venv/lib/site-packages/pandas/io/common.py?line=428'>429</a>\u001b[0m \u001b[39mreturn\u001b[39;00m IOArgs(\n\u001b[0;32m    <a href='file:///c%3A/my/ML/venv/lib/site-packages/pandas/io/common.py?line=429'>430</a>\u001b[0m     filepath_or_buffer\u001b[39m=\u001b[39mfilepath_or_buffer,\n\u001b[0;32m    <a href='file:///c%3A/my/ML/venv/lib/site-packages/pandas/io/common.py?line=430'>431</a>\u001b[0m     encoding\u001b[39m=\u001b[39mencoding,\n\u001b[1;32m   (...)\u001b[0m\n\u001b[0;32m    <a href='file:///c%3A/my/ML/venv/lib/site-packages/pandas/io/common.py?line=433'>434</a>\u001b[0m     mode\u001b[39m=\u001b[39mmode,\n\u001b[0;32m    <a href='file:///c%3A/my/ML/venv/lib/site-packages/pandas/io/common.py?line=434'>435</a>\u001b[0m )\n",
      "\u001b[1;31mValueError\u001b[0m: Invalid file path or buffer object type: <class 'list'>"
     ]
    }
   ],
   "source": [
    "import pandas as pd\n",
    "df = pd.read_json(json)"
   ]
  }
 ],
 "metadata": {
  "interpreter": {
   "hash": "03130e1e88e13a032f69981c32da9b604f050f5857d0cf25fc1ed9951001c58f"
  },
  "kernelspec": {
   "display_name": "Python 3.8.10 ('venv': venv)",
   "language": "python",
   "name": "python3"
  },
  "language_info": {
   "codemirror_mode": {
    "name": "ipython",
    "version": 3
   },
   "file_extension": ".py",
   "mimetype": "text/x-python",
   "name": "python",
   "nbconvert_exporter": "python",
   "pygments_lexer": "ipython3",
   "version": "3.8.10"
  },
  "orig_nbformat": 4
 },
 "nbformat": 4,
 "nbformat_minor": 2
}
