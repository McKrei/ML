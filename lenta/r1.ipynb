{
 "cells": [
  {
   "cell_type": "markdown",
   "metadata": {},
   "source": [
    "hist_data.csv - исторические данные о покупках\n",
    "- buyer_id - id покупателя\n",
    "- pav_order_id - id заказа\n",
    "- created - время добавления в заказ\n",
    "- item_id - id item'а\n",
    "- count - количество выбранного товара в заказе\n",
    "- price_sold - цена за 1 item\n",
    "- flag_weight_goods - бинарный флаг того, является ли товар весовым\n",
    "- weight - вес заказа\n",
    "\n",
    "test.csv - текущее состояние корзины (последний заказ пользователя)\n",
    "- buyer_id - id покупателя\n",
    "- pav_order_id - id заказа\n",
    "- created - время добавления в заказ\n",
    "- item_id - id item'а (товара)\n",
    "- count - количество выбранного товара в заказе\n",
    "- price_sold - цена за 1 item\n",
    "- flag_weight_goods - бинарный флаг того, является ли товар весовым"
   ]
  },
  {
   "cell_type": "code",
   "execution_count": 51,
   "metadata": {},
   "outputs": [],
   "source": [
    "import pandas as pd\n",
    "import numpy as np\n",
    "from tqdm.notebook import tqdm\n",
    "from collections import Counter\n",
    "from scipy import sparse as sp\n",
    "from collections import defaultdict\n",
    "import implicit\n",
    "\n",
    "hist_data = pd.read_csv('data/hist_data.csv')\n",
    "test = pd.read_csv('data/test.csv')"
   ]
  },
  {
   "cell_type": "code",
   "execution_count": 52,
   "metadata": {},
   "outputs": [],
   "source": [
    "def dcg(y_relevance: np.ndarray) -> float:    \n",
    "    return np.sum([(2**i - 1) / np.log2(k + 1) for (k, i) in enumerate(y_relevance, start=1)])\n",
    "\n",
    "def ndcg(y_relevance: np.ndarray, k: int) -> float:\n",
    "    if y_relevance.sum() == 0:\n",
    "        return 0.0\n",
    "    DCG = dcg(y_relevance[:k])\n",
    "    IDCG = dcg(-np.sort(-y_relevance)[:k])\n",
    "    return DCG / IDCG\n",
    "\n",
    "def apply_relevance(x):\n",
    "    return [int(item in x['basket']) for item in x['preds']]\n",
    "\n",
    "def create_relevance(pred):\n",
    "    d = pred.copy()\n",
    "    d['basket'] = d['basket'].apply(set)\n",
    "    d = d.apply(apply_relevance, axis=1)\n",
    "    return d\n",
    "\n",
    "def ndcg_full_dataset(d):\n",
    "    dd = pd.DataFrame(d.to_list()).fillna(0).to_numpy()\n",
    "    k = dd.shape[1]\n",
    "    scores = [ndcg(dd[i], k) for i in range(len(dd))]\n",
    "    return np.mean(scores)\n",
    "\n",
    "def compute_ndcg_score(pred):\n",
    "    relevance = create_relevance(pred)\n",
    "    return ndcg_full_dataset(relevance)"
   ]
  },
  {
   "cell_type": "code",
   "execution_count": 53,
   "metadata": {},
   "outputs": [
    {
     "data": {
      "text/html": [
       "<div>\n",
       "<style scoped>\n",
       "    .dataframe tbody tr th:only-of-type {\n",
       "        vertical-align: middle;\n",
       "    }\n",
       "\n",
       "    .dataframe tbody tr th {\n",
       "        vertical-align: top;\n",
       "    }\n",
       "\n",
       "    .dataframe thead th {\n",
       "        text-align: right;\n",
       "    }\n",
       "</style>\n",
       "<table border=\"1\" class=\"dataframe\">\n",
       "  <thead>\n",
       "    <tr style=\"text-align: right;\">\n",
       "      <th></th>\n",
       "      <th>buyer_id</th>\n",
       "      <th>pav_order_id</th>\n",
       "      <th>created</th>\n",
       "      <th>item_id</th>\n",
       "      <th>count</th>\n",
       "      <th>price_sold</th>\n",
       "      <th>flag_weight_goods</th>\n",
       "      <th>weight</th>\n",
       "    </tr>\n",
       "  </thead>\n",
       "  <tbody>\n",
       "    <tr>\n",
       "      <th>0</th>\n",
       "      <td>95203091</td>\n",
       "      <td>98506637863</td>\n",
       "      <td>2021-07-01 00:03:44</td>\n",
       "      <td>202808329</td>\n",
       "      <td>1.000</td>\n",
       "      <td>79.990</td>\n",
       "      <td>False</td>\n",
       "      <td>11.14</td>\n",
       "    </tr>\n",
       "    <tr>\n",
       "      <th>1</th>\n",
       "      <td>95203091</td>\n",
       "      <td>98506637863</td>\n",
       "      <td>2021-07-01 00:03:44</td>\n",
       "      <td>202953905</td>\n",
       "      <td>1.072</td>\n",
       "      <td>44.945</td>\n",
       "      <td>True</td>\n",
       "      <td>11.14</td>\n",
       "    </tr>\n",
       "    <tr>\n",
       "      <th>2</th>\n",
       "      <td>95203091</td>\n",
       "      <td>98506637863</td>\n",
       "      <td>2021-07-01 00:03:44</td>\n",
       "      <td>203566452</td>\n",
       "      <td>1.000</td>\n",
       "      <td>69.990</td>\n",
       "      <td>False</td>\n",
       "      <td>11.14</td>\n",
       "    </tr>\n",
       "  </tbody>\n",
       "</table>\n",
       "</div>"
      ],
      "text/plain": [
       "   buyer_id  pav_order_id              created    item_id  count  price_sold  \\\n",
       "0  95203091   98506637863  2021-07-01 00:03:44  202808329  1.000      79.990   \n",
       "1  95203091   98506637863  2021-07-01 00:03:44  202953905  1.072      44.945   \n",
       "2  95203091   98506637863  2021-07-01 00:03:44  203566452  1.000      69.990   \n",
       "\n",
       "   flag_weight_goods  weight  \n",
       "0              False   11.14  \n",
       "1               True   11.14  \n",
       "2              False   11.14  "
      ]
     },
     "execution_count": 53,
     "metadata": {},
     "output_type": "execute_result"
    }
   ],
   "source": [
    "hist_data.head(3)"
   ]
  },
  {
   "cell_type": "code",
   "execution_count": 54,
   "metadata": {},
   "outputs": [
    {
     "data": {
      "text/html": [
       "<div>\n",
       "<style scoped>\n",
       "    .dataframe tbody tr th:only-of-type {\n",
       "        vertical-align: middle;\n",
       "    }\n",
       "\n",
       "    .dataframe tbody tr th {\n",
       "        vertical-align: top;\n",
       "    }\n",
       "\n",
       "    .dataframe thead th {\n",
       "        text-align: right;\n",
       "    }\n",
       "</style>\n",
       "<table border=\"1\" class=\"dataframe\">\n",
       "  <thead>\n",
       "    <tr style=\"text-align: right;\">\n",
       "      <th></th>\n",
       "      <th>buyer_id</th>\n",
       "      <th>pav_order_id</th>\n",
       "      <th>created</th>\n",
       "      <th>item_id</th>\n",
       "      <th>count</th>\n",
       "      <th>price_sold</th>\n",
       "      <th>flag_weight_goods</th>\n",
       "    </tr>\n",
       "  </thead>\n",
       "  <tbody>\n",
       "    <tr>\n",
       "      <th>0</th>\n",
       "      <td>94640077</td>\n",
       "      <td>98519243164</td>\n",
       "      <td>2021-08-30 17:56:31</td>\n",
       "      <td>203053459</td>\n",
       "      <td>1.00</td>\n",
       "      <td>67.62</td>\n",
       "      <td>False</td>\n",
       "    </tr>\n",
       "    <tr>\n",
       "      <th>1</th>\n",
       "      <td>95865222</td>\n",
       "      <td>98512083628</td>\n",
       "      <td>2021-07-26 16:17:21</td>\n",
       "      <td>202967705</td>\n",
       "      <td>1.14</td>\n",
       "      <td>406.80</td>\n",
       "      <td>True</td>\n",
       "    </tr>\n",
       "    <tr>\n",
       "      <th>2</th>\n",
       "      <td>95147155</td>\n",
       "      <td>98519972197</td>\n",
       "      <td>2021-09-02 21:54:18</td>\n",
       "      <td>203551512</td>\n",
       "      <td>1.00</td>\n",
       "      <td>52.77</td>\n",
       "      <td>False</td>\n",
       "    </tr>\n",
       "  </tbody>\n",
       "</table>\n",
       "</div>"
      ],
      "text/plain": [
       "   buyer_id  pav_order_id              created    item_id  count  price_sold  \\\n",
       "0  94640077   98519243164  2021-08-30 17:56:31  203053459   1.00       67.62   \n",
       "1  95865222   98512083628  2021-07-26 16:17:21  202967705   1.14      406.80   \n",
       "2  95147155   98519972197  2021-09-02 21:54:18  203551512   1.00       52.77   \n",
       "\n",
       "   flag_weight_goods  \n",
       "0              False  \n",
       "1               True  \n",
       "2              False  "
      ]
     },
     "execution_count": 54,
     "metadata": {},
     "output_type": "execute_result"
    }
   ],
   "source": [
    "test.head(3)"
   ]
  },
  {
   "cell_type": "code",
   "execution_count": 55,
   "metadata": {},
   "outputs": [
    {
     "data": {
      "text/plain": [
       "2124"
      ]
     },
     "execution_count": 55,
     "metadata": {},
     "output_type": "execute_result"
    }
   ],
   "source": [
    "prod_his = set(hist_data.item_id)\n",
    "prod_test = set(test.item_id)\n",
    "len(prod_test - prod_his)"
   ]
  },
  {
   "cell_type": "code",
   "execution_count": 56,
   "metadata": {},
   "outputs": [
    {
     "data": {
      "text/html": [
       "<div>\n",
       "<style scoped>\n",
       "    .dataframe tbody tr th:only-of-type {\n",
       "        vertical-align: middle;\n",
       "    }\n",
       "\n",
       "    .dataframe tbody tr th {\n",
       "        vertical-align: top;\n",
       "    }\n",
       "\n",
       "    .dataframe thead th {\n",
       "        text-align: right;\n",
       "    }\n",
       "</style>\n",
       "<table border=\"1\" class=\"dataframe\">\n",
       "  <thead>\n",
       "    <tr style=\"text-align: right;\">\n",
       "      <th></th>\n",
       "      <th>buyer_id</th>\n",
       "      <th>pav_order_id</th>\n",
       "      <th>created</th>\n",
       "      <th>item_id</th>\n",
       "      <th>count</th>\n",
       "      <th>price_sold</th>\n",
       "      <th>flag_weight_goods</th>\n",
       "      <th>sum_price</th>\n",
       "    </tr>\n",
       "  </thead>\n",
       "  <tbody>\n",
       "    <tr>\n",
       "      <th>0</th>\n",
       "      <td>95203091</td>\n",
       "      <td>98506637863</td>\n",
       "      <td>2021-07-01 00:03:44</td>\n",
       "      <td>202808329</td>\n",
       "      <td>1.000</td>\n",
       "      <td>79.990</td>\n",
       "      <td>False</td>\n",
       "      <td>79.99000</td>\n",
       "    </tr>\n",
       "    <tr>\n",
       "      <th>1</th>\n",
       "      <td>95203091</td>\n",
       "      <td>98506637863</td>\n",
       "      <td>2021-07-01 00:03:44</td>\n",
       "      <td>202953905</td>\n",
       "      <td>1.072</td>\n",
       "      <td>44.945</td>\n",
       "      <td>True</td>\n",
       "      <td>48.18104</td>\n",
       "    </tr>\n",
       "    <tr>\n",
       "      <th>2</th>\n",
       "      <td>95203091</td>\n",
       "      <td>98506637863</td>\n",
       "      <td>2021-07-01 00:03:44</td>\n",
       "      <td>203566452</td>\n",
       "      <td>1.000</td>\n",
       "      <td>69.990</td>\n",
       "      <td>False</td>\n",
       "      <td>69.99000</td>\n",
       "    </tr>\n",
       "  </tbody>\n",
       "</table>\n",
       "</div>"
      ],
      "text/plain": [
       "   buyer_id  pav_order_id              created    item_id  count  price_sold  \\\n",
       "0  95203091   98506637863  2021-07-01 00:03:44  202808329  1.000      79.990   \n",
       "1  95203091   98506637863  2021-07-01 00:03:44  202953905  1.072      44.945   \n",
       "2  95203091   98506637863  2021-07-01 00:03:44  203566452  1.000      69.990   \n",
       "\n",
       "   flag_weight_goods  sum_price  \n",
       "0              False   79.99000  \n",
       "1               True   48.18104  \n",
       "2              False   69.99000  "
      ]
     },
     "execution_count": 56,
     "metadata": {},
     "output_type": "execute_result"
    }
   ],
   "source": [
    "full_df = pd.concat([hist_data.iloc[:, :-1], test])\n",
    "full_df = full_df.assign(sum_price = full_df['count'] * full_df.price_sold)\n",
    "full_df.head(3)\n"
   ]
  },
  {
   "cell_type": "code",
   "execution_count": 57,
   "metadata": {},
   "outputs": [],
   "source": [
    "users_data = full_df.copy()\n",
    "users_data = users_data.groupby('buyer_id').agg({\n",
    "    'pav_order_id': 'unique',\n",
    "    'item_id': np.size,\n",
    "    'price_sold': np.sum\n",
    "    })\n",
    "\n",
    "\n",
    "users_data.pav_order_id = users_data.pav_order_id.apply(len)\n",
    "users_data = users_data.assign(\n",
    "    avg_items_order = round(users_data.item_id / users_data.pav_order_id, 2),\n",
    "    avg_price_order = round(users_data.price_sold / users_data.pav_order_id, 2)\n",
    "    )\n",
    "users_data.rename(columns = {'pav_order_id' : 'count_order', 'item_id' : 'count_items', 'price_sold' : 'sum_expense'}, inplace = True)"
   ]
  },
  {
   "cell_type": "code",
   "execution_count": 58,
   "metadata": {},
   "outputs": [
    {
     "data": {
      "text/html": [
       "<div>\n",
       "<style scoped>\n",
       "    .dataframe tbody tr th:only-of-type {\n",
       "        vertical-align: middle;\n",
       "    }\n",
       "\n",
       "    .dataframe tbody tr th {\n",
       "        vertical-align: top;\n",
       "    }\n",
       "\n",
       "    .dataframe thead th {\n",
       "        text-align: right;\n",
       "    }\n",
       "</style>\n",
       "<table border=\"1\" class=\"dataframe\">\n",
       "  <thead>\n",
       "    <tr style=\"text-align: right;\">\n",
       "      <th></th>\n",
       "      <th>count_order</th>\n",
       "      <th>count_items</th>\n",
       "      <th>sum_expense</th>\n",
       "      <th>avg_items_order</th>\n",
       "      <th>avg_price_order</th>\n",
       "    </tr>\n",
       "    <tr>\n",
       "      <th>buyer_id</th>\n",
       "      <th></th>\n",
       "      <th></th>\n",
       "      <th></th>\n",
       "      <th></th>\n",
       "      <th></th>\n",
       "    </tr>\n",
       "  </thead>\n",
       "  <tbody>\n",
       "    <tr>\n",
       "      <th>95681486</th>\n",
       "      <td>2</td>\n",
       "      <td>186</td>\n",
       "      <td>13254.892</td>\n",
       "      <td>93.00</td>\n",
       "      <td>6627.45</td>\n",
       "    </tr>\n",
       "    <tr>\n",
       "      <th>95314110</th>\n",
       "      <td>2</td>\n",
       "      <td>160</td>\n",
       "      <td>25081.463</td>\n",
       "      <td>80.00</td>\n",
       "      <td>12540.73</td>\n",
       "    </tr>\n",
       "    <tr>\n",
       "      <th>94715958</th>\n",
       "      <td>7</td>\n",
       "      <td>537</td>\n",
       "      <td>40147.510</td>\n",
       "      <td>76.71</td>\n",
       "      <td>5735.36</td>\n",
       "    </tr>\n",
       "  </tbody>\n",
       "</table>\n",
       "</div>"
      ],
      "text/plain": [
       "          count_order  count_items  sum_expense  avg_items_order  \\\n",
       "buyer_id                                                           \n",
       "95681486            2          186    13254.892            93.00   \n",
       "95314110            2          160    25081.463            80.00   \n",
       "94715958            7          537    40147.510            76.71   \n",
       "\n",
       "          avg_price_order  \n",
       "buyer_id                   \n",
       "95681486          6627.45  \n",
       "95314110         12540.73  \n",
       "94715958          5735.36  "
      ]
     },
     "execution_count": 58,
     "metadata": {},
     "output_type": "execute_result"
    }
   ],
   "source": [
    "users_data.sort_values('avg_items_order', ascending=False).head(3)"
   ]
  },
  {
   "cell_type": "code",
   "execution_count": 59,
   "metadata": {},
   "outputs": [
    {
     "data": {
      "text/html": [
       "<div>\n",
       "<style scoped>\n",
       "    .dataframe tbody tr th:only-of-type {\n",
       "        vertical-align: middle;\n",
       "    }\n",
       "\n",
       "    .dataframe tbody tr th {\n",
       "        vertical-align: top;\n",
       "    }\n",
       "\n",
       "    .dataframe thead th {\n",
       "        text-align: right;\n",
       "    }\n",
       "</style>\n",
       "<table border=\"1\" class=\"dataframe\">\n",
       "  <thead>\n",
       "    <tr style=\"text-align: right;\">\n",
       "      <th></th>\n",
       "      <th>count_order</th>\n",
       "      <th>count_items</th>\n",
       "      <th>sum_expense</th>\n",
       "      <th>avg_items_order</th>\n",
       "      <th>avg_price_order</th>\n",
       "    </tr>\n",
       "  </thead>\n",
       "  <tbody>\n",
       "    <tr>\n",
       "      <th>count</th>\n",
       "      <td>80244.000000</td>\n",
       "      <td>80244.000000</td>\n",
       "      <td>80244.000000</td>\n",
       "      <td>80244.000000</td>\n",
       "      <td>80244.000000</td>\n",
       "    </tr>\n",
       "    <tr>\n",
       "      <th>mean</th>\n",
       "      <td>3.882945</td>\n",
       "      <td>69.928082</td>\n",
       "      <td>7323.801233</td>\n",
       "      <td>16.830866</td>\n",
       "      <td>1770.703268</td>\n",
       "    </tr>\n",
       "    <tr>\n",
       "      <th>std</th>\n",
       "      <td>3.083818</td>\n",
       "      <td>66.709305</td>\n",
       "      <td>9181.896459</td>\n",
       "      <td>6.632906</td>\n",
       "      <td>1549.847322</td>\n",
       "    </tr>\n",
       "    <tr>\n",
       "      <th>min</th>\n",
       "      <td>1.000000</td>\n",
       "      <td>7.000000</td>\n",
       "      <td>0.000000</td>\n",
       "      <td>7.000000</td>\n",
       "      <td>0.000000</td>\n",
       "    </tr>\n",
       "    <tr>\n",
       "      <th>25%</th>\n",
       "      <td>2.000000</td>\n",
       "      <td>24.000000</td>\n",
       "      <td>2462.435000</td>\n",
       "      <td>12.330000</td>\n",
       "      <td>1205.530000</td>\n",
       "    </tr>\n",
       "    <tr>\n",
       "      <th>50%</th>\n",
       "      <td>3.000000</td>\n",
       "      <td>50.000000</td>\n",
       "      <td>5070.565000</td>\n",
       "      <td>15.570000</td>\n",
       "      <td>1614.745000</td>\n",
       "    </tr>\n",
       "    <tr>\n",
       "      <th>75%</th>\n",
       "      <td>5.000000</td>\n",
       "      <td>92.000000</td>\n",
       "      <td>9514.431500</td>\n",
       "      <td>20.000000</td>\n",
       "      <td>2135.112500</td>\n",
       "    </tr>\n",
       "    <tr>\n",
       "      <th>max</th>\n",
       "      <td>20.000000</td>\n",
       "      <td>723.000000</td>\n",
       "      <td>771062.551000</td>\n",
       "      <td>93.000000</td>\n",
       "      <td>301756.770000</td>\n",
       "    </tr>\n",
       "  </tbody>\n",
       "</table>\n",
       "</div>"
      ],
      "text/plain": [
       "        count_order   count_items    sum_expense  avg_items_order  \\\n",
       "count  80244.000000  80244.000000   80244.000000     80244.000000   \n",
       "mean       3.882945     69.928082    7323.801233        16.830866   \n",
       "std        3.083818     66.709305    9181.896459         6.632906   \n",
       "min        1.000000      7.000000       0.000000         7.000000   \n",
       "25%        2.000000     24.000000    2462.435000        12.330000   \n",
       "50%        3.000000     50.000000    5070.565000        15.570000   \n",
       "75%        5.000000     92.000000    9514.431500        20.000000   \n",
       "max       20.000000    723.000000  771062.551000        93.000000   \n",
       "\n",
       "       avg_price_order  \n",
       "count     80244.000000  \n",
       "mean       1770.703268  \n",
       "std        1549.847322  \n",
       "min           0.000000  \n",
       "25%        1205.530000  \n",
       "50%        1614.745000  \n",
       "75%        2135.112500  \n",
       "max      301756.770000  "
      ]
     },
     "execution_count": 59,
     "metadata": {},
     "output_type": "execute_result"
    }
   ],
   "source": [
    "users_data.describe()"
   ]
  },
  {
   "cell_type": "code",
   "execution_count": 60,
   "metadata": {},
   "outputs": [],
   "source": [
    "product_data = full_df.copy()\n",
    "product_data['count_mean'] = product_data['count'].values\n",
    "product_data = product_data.groupby('item_id').agg({\n",
    "    'price_sold': np.median,\n",
    "    'sum_price': np.median,\n",
    "    'count_mean': np.mean,\n",
    "    'count': np.size,\n",
    "    'flag_weight_goods': lambda x: list(x)[0]  \n",
    "    })\n"
   ]
  },
  {
   "cell_type": "code",
   "execution_count": 61,
   "metadata": {},
   "outputs": [
    {
     "data": {
      "text/html": [
       "<div>\n",
       "<style scoped>\n",
       "    .dataframe tbody tr th:only-of-type {\n",
       "        vertical-align: middle;\n",
       "    }\n",
       "\n",
       "    .dataframe tbody tr th {\n",
       "        vertical-align: top;\n",
       "    }\n",
       "\n",
       "    .dataframe thead th {\n",
       "        text-align: right;\n",
       "    }\n",
       "</style>\n",
       "<table border=\"1\" class=\"dataframe\">\n",
       "  <thead>\n",
       "    <tr style=\"text-align: right;\">\n",
       "      <th></th>\n",
       "      <th>price_sold</th>\n",
       "      <th>sum_price</th>\n",
       "      <th>count_mean</th>\n",
       "      <th>count</th>\n",
       "      <th>flag_weight_goods</th>\n",
       "    </tr>\n",
       "    <tr>\n",
       "      <th>item_id</th>\n",
       "      <th></th>\n",
       "      <th></th>\n",
       "      <th></th>\n",
       "      <th></th>\n",
       "      <th></th>\n",
       "    </tr>\n",
       "  </thead>\n",
       "  <tbody>\n",
       "    <tr>\n",
       "      <th>204217182</th>\n",
       "      <td>9.98</td>\n",
       "      <td>998.0</td>\n",
       "      <td>92.410256</td>\n",
       "      <td>39</td>\n",
       "      <td>False</td>\n",
       "    </tr>\n",
       "    <tr>\n",
       "      <th>204217183</th>\n",
       "      <td>9.98</td>\n",
       "      <td>998.0</td>\n",
       "      <td>85.407407</td>\n",
       "      <td>27</td>\n",
       "      <td>False</td>\n",
       "    </tr>\n",
       "    <tr>\n",
       "      <th>204217144</th>\n",
       "      <td>9.98</td>\n",
       "      <td>998.0</td>\n",
       "      <td>78.785714</td>\n",
       "      <td>14</td>\n",
       "      <td>False</td>\n",
       "    </tr>\n",
       "  </tbody>\n",
       "</table>\n",
       "</div>"
      ],
      "text/plain": [
       "           price_sold  sum_price  count_mean  count  flag_weight_goods\n",
       "item_id                                                               \n",
       "204217182        9.98      998.0   92.410256     39              False\n",
       "204217183        9.98      998.0   85.407407     27              False\n",
       "204217144        9.98      998.0   78.785714     14              False"
      ]
     },
     "execution_count": 61,
     "metadata": {},
     "output_type": "execute_result"
    }
   ],
   "source": [
    "product_data.sort_values('count_mean', ascending=False).head(3)\n",
    "\n"
   ]
  },
  {
   "cell_type": "code",
   "execution_count": 62,
   "metadata": {},
   "outputs": [
    {
     "data": {
      "text/html": [
       "<div>\n",
       "<style scoped>\n",
       "    .dataframe tbody tr th:only-of-type {\n",
       "        vertical-align: middle;\n",
       "    }\n",
       "\n",
       "    .dataframe tbody tr th {\n",
       "        vertical-align: top;\n",
       "    }\n",
       "\n",
       "    .dataframe thead th {\n",
       "        text-align: right;\n",
       "    }\n",
       "</style>\n",
       "<table border=\"1\" class=\"dataframe\">\n",
       "  <thead>\n",
       "    <tr style=\"text-align: right;\">\n",
       "      <th></th>\n",
       "      <th>price_sold</th>\n",
       "      <th>sum_price</th>\n",
       "      <th>count_mean</th>\n",
       "      <th>count</th>\n",
       "    </tr>\n",
       "  </thead>\n",
       "  <tbody>\n",
       "    <tr>\n",
       "      <th>count</th>\n",
       "      <td>54596.000000</td>\n",
       "      <td>54596.000000</td>\n",
       "      <td>54596.000000</td>\n",
       "      <td>54596.000000</td>\n",
       "    </tr>\n",
       "    <tr>\n",
       "      <th>mean</th>\n",
       "      <td>187.660403</td>\n",
       "      <td>204.536365</td>\n",
       "      <td>1.329832</td>\n",
       "      <td>102.778757</td>\n",
       "    </tr>\n",
       "    <tr>\n",
       "      <th>std</th>\n",
       "      <td>310.678950</td>\n",
       "      <td>470.801163</td>\n",
       "      <td>1.027269</td>\n",
       "      <td>655.999594</td>\n",
       "    </tr>\n",
       "    <tr>\n",
       "      <th>min</th>\n",
       "      <td>0.000000</td>\n",
       "      <td>0.000000</td>\n",
       "      <td>0.001000</td>\n",
       "      <td>1.000000</td>\n",
       "    </tr>\n",
       "    <tr>\n",
       "      <th>25%</th>\n",
       "      <td>54.990000</td>\n",
       "      <td>64.692500</td>\n",
       "      <td>1.000000</td>\n",
       "      <td>3.000000</td>\n",
       "    </tr>\n",
       "    <tr>\n",
       "      <th>50%</th>\n",
       "      <td>106.990000</td>\n",
       "      <td>114.990000</td>\n",
       "      <td>1.090909</td>\n",
       "      <td>10.000000</td>\n",
       "    </tr>\n",
       "    <tr>\n",
       "      <th>75%</th>\n",
       "      <td>210.490000</td>\n",
       "      <td>214.247799</td>\n",
       "      <td>1.363636</td>\n",
       "      <td>47.000000</td>\n",
       "    </tr>\n",
       "    <tr>\n",
       "      <th>max</th>\n",
       "      <td>11989.990000</td>\n",
       "      <td>34297.952400</td>\n",
       "      <td>92.410256</td>\n",
       "      <td>79760.000000</td>\n",
       "    </tr>\n",
       "  </tbody>\n",
       "</table>\n",
       "</div>"
      ],
      "text/plain": [
       "         price_sold     sum_price    count_mean         count\n",
       "count  54596.000000  54596.000000  54596.000000  54596.000000\n",
       "mean     187.660403    204.536365      1.329832    102.778757\n",
       "std      310.678950    470.801163      1.027269    655.999594\n",
       "min        0.000000      0.000000      0.001000      1.000000\n",
       "25%       54.990000     64.692500      1.000000      3.000000\n",
       "50%      106.990000    114.990000      1.090909     10.000000\n",
       "75%      210.490000    214.247799      1.363636     47.000000\n",
       "max    11989.990000  34297.952400     92.410256  79760.000000"
      ]
     },
     "execution_count": 62,
     "metadata": {},
     "output_type": "execute_result"
    }
   ],
   "source": [
    "product_data.describe()"
   ]
  },
  {
   "cell_type": "code",
   "execution_count": 63,
   "metadata": {},
   "outputs": [],
   "source": [
    "# Общии приготовления\n",
    "product_lite_df = pd.DataFrame({'item_id': product_data.index, 'count': product_data['count'].values})\n",
    "top20prod = frozenset(product_data.nlargest(20, columns=\"count\").index)\n",
    "\n",
    "order_user = test.groupby('pav_order_id').agg({'buyer_id': lambda x: list(x)[0]}).to_dict()\n",
    "order_user = order_user['buyer_id']"
   ]
  },
  {
   "cell_type": "markdown",
   "metadata": {},
   "source": [
    "## 1 решение через старые покупки и популярные товары "
   ]
  },
  {
   "cell_type": "code",
   "execution_count": 64,
   "metadata": {},
   "outputs": [],
   "source": [
    "# Считаем сколько сколько клиент купил товаров \n",
    "users = full_df.buyer_id.unique()\n",
    "user_count_dict = {}\n",
    "for user in users:\n",
    "    list_ = full_df[full_df.buyer_id == user]['item_id'].to_list()\n",
    "    res = sorted(Counter(list_).items(), key=lambda x: x[1], reverse=True)\n",
    "    user_count_dict.update({user : res})"
   ]
  },
  {
   "cell_type": "code",
   "execution_count": 1,
   "metadata": {},
   "outputs": [],
   "source": [
    "def top_20_items(items: list) -> list:\n",
    "    t_df = pd.DataFrame(items, columns=['item_id', 'count_user'])\n",
    "    new_df = pd.merge(t_df, product_lite_df, on=\"item_id\")\n",
    "    res = new_df.sort_values(by=[\"count_user\", 'count'], ascending=False).head(20)['item_id'].to_list()\n",
    "    l = len(res)\n",
    "    if l != 20:\n",
    "        res += list(top20prod - set(res))[:20 - l]\n",
    "    return res"
   ]
  },
  {
   "cell_type": "code",
   "execution_count": null,
   "metadata": {},
   "outputs": [],
   "source": [
    "result_list = []\n",
    "\n",
    "for order_id, user_id in order_user.items():\n",
    "    i_list = user_count_dict[user_id]\n",
    "    prod_list = top_20_items(i_list)\n",
    "    result_list.append([order_id, prod_list])\n",
    "pred = pd.DataFrame(result_list, columns=['pav_order_id', 'preds'])"
   ]
  },
  {
   "cell_type": "code",
   "execution_count": null,
   "metadata": {},
   "outputs": [],
   "source": [
    "pred.to_csv('pred.csv', index=False)"
   ]
  },
  {
   "cell_type": "markdown",
   "metadata": {},
   "source": [
    "## 1.1 "
   ]
  },
  {
   "cell_type": "code",
   "execution_count": null,
   "metadata": {},
   "outputs": [
    {
     "data": {
      "text/html": [
       "<div>\n",
       "<style scoped>\n",
       "    .dataframe tbody tr th:only-of-type {\n",
       "        vertical-align: middle;\n",
       "    }\n",
       "\n",
       "    .dataframe tbody tr th {\n",
       "        vertical-align: top;\n",
       "    }\n",
       "\n",
       "    .dataframe thead th {\n",
       "        text-align: right;\n",
       "    }\n",
       "</style>\n",
       "<table border=\"1\" class=\"dataframe\">\n",
       "  <thead>\n",
       "    <tr style=\"text-align: right;\">\n",
       "      <th></th>\n",
       "      <th>buyer_id</th>\n",
       "      <th>pav_order_id</th>\n",
       "      <th>created</th>\n",
       "      <th>item_id</th>\n",
       "      <th>count</th>\n",
       "      <th>price_sold</th>\n",
       "      <th>flag_weight_goods</th>\n",
       "    </tr>\n",
       "  </thead>\n",
       "  <tbody>\n",
       "    <tr>\n",
       "      <th>0</th>\n",
       "      <td>94640077</td>\n",
       "      <td>98519243164</td>\n",
       "      <td>2021-08-30 17:56:31</td>\n",
       "      <td>203053459</td>\n",
       "      <td>1.0</td>\n",
       "      <td>67.62</td>\n",
       "      <td>False</td>\n",
       "    </tr>\n",
       "  </tbody>\n",
       "</table>\n",
       "</div>"
      ],
      "text/plain": [
       "   buyer_id  pav_order_id              created    item_id  count  price_sold  \\\n",
       "0  94640077   98519243164  2021-08-30 17:56:31  203053459    1.0       67.62   \n",
       "\n",
       "   flag_weight_goods  \n",
       "0              False  "
      ]
     },
     "execution_count": 191,
     "metadata": {},
     "output_type": "execute_result"
    }
   ],
   "source": [
    "test.head(1)"
   ]
  },
  {
   "cell_type": "code",
   "execution_count": null,
   "metadata": {},
   "outputs": [],
   "source": [
    "pred_ome_dict = {order:pr for order, pr in zip(pred.pav_order_id.values, pred.preds.values)}\n",
    "pav_order_id = []\n",
    "basket = []\n",
    "preds = []\n",
    "for order_id, user_id in order_user.items():\n",
    "    order_df = test[test.pav_order_id == order_id][['buyer_id', 'item_id']]\n",
    "    on_df = pd.merge(order_df, product_lite_df, on=\"item_id\").nlargest(20, columns=\"count\")\n",
    "    res = on_df.item_id.to_list()\n",
    "    basket.append(res)\n",
    "\n",
    "    top20 = frozenset(pred_ome_dict[order_id])\n",
    "    l = len(res)\n",
    "    if l != 20:\n",
    "        res += list(top20prod - set(res))[:20 - l]\n",
    "        \n",
    "    pav_order_id.append(order_id)\n",
    "    preds.append(res)\n",
    "\n",
    "data = {'pav_order_id': pav_order_id, 'basket': basket, 'preds': preds}\n",
    "pred_1_1 = pd.DataFrame(data=data).set_index('pav_order_id')"
   ]
  },
  {
   "cell_type": "code",
   "execution_count": null,
   "metadata": {},
   "outputs": [
    {
     "data": {
      "text/plain": [
       "1.0"
      ]
     },
     "execution_count": 287,
     "metadata": {},
     "output_type": "execute_result"
    }
   ],
   "source": [
    "pred_1_1['preds'].to_csv('pred.csv')\n",
    "compute_ndcg_score(pred_1_1)\n"
   ]
  },
  {
   "cell_type": "markdown",
   "metadata": {},
   "source": [
    "# Матрица"
   ]
  },
  {
   "cell_type": "code",
   "execution_count": 65,
   "metadata": {},
   "outputs": [],
   "source": [
    "import x5.src.utils as utils\n",
    "product_encoder = utils.ProductEncoder(product_lite_df.item_id.to_list())\n",
    "user_encoder = utils.ProductEncoder(order_user.values())"
   ]
  },
  {
   "cell_type": "code",
   "execution_count": 66,
   "metadata": {},
   "outputs": [],
   "source": [
    "def make_coo_row(items, product_encoder):\n",
    "    idx = []\n",
    "    values = []\n",
    "\n",
    "    n_items = len(items)\n",
    "\n",
    "    for pid, count in items:\n",
    "        idx.append(product_encoder.toIdx(pid))\n",
    "        values.append(count)\n",
    "\n",
    "    return sp.coo_matrix(\n",
    "        (np.array(values).astype(np.float32), ([0] * len(idx), idx)), shape=(1, product_encoder.num_products)\n",
    "    )"
   ]
  },
  {
   "cell_type": "code",
   "execution_count": 68,
   "metadata": {},
   "outputs": [],
   "source": [
    "rows = []\n",
    "for user_id in order_user.values():\n",
    "    rows.append(make_coo_row(\n",
    "        user_count_dict[user_id],\n",
    "        product_encoder\n",
    "        ))\n",
    "X_sparse = sp.vstack(rows).tocsr()"
   ]
  },
  {
   "cell_type": "code",
   "execution_count": 45,
   "metadata": {},
   "outputs": [],
   "source": [
    "rows = []\n",
    "for user_id in order_user.values():\n",
    "    rows.append(utils.make_coo_row(\n",
    "        full_df[full_df.buyer_id == user_id].item_id.to_list(),\n",
    "        product_encoder\n",
    "        ))\n",
    "X_sparse = sp.vstack(rows).tocsr()"
   ]
  },
  {
   "cell_type": "markdown",
   "metadata": {},
   "source": [
    "## 2 решение item2item\n",
    "0.16"
   ]
  },
  {
   "cell_type": "code",
   "execution_count": 75,
   "metadata": {},
   "outputs": [
    {
     "name": "stderr",
     "output_type": "stream",
     "text": [
      "100%|██████████| 54596/54596 [00:01<00:00, 37010.55it/s]\n"
     ]
    }
   ],
   "source": [
    "model = implicit.nearest_neighbours.CosineRecommender(K=10)\n",
    "model.fit(X_sparse)"
   ]
  },
  {
   "cell_type": "code",
   "execution_count": 76,
   "metadata": {},
   "outputs": [],
   "source": [
    "result_list = []\n",
    "\n",
    "for order_id, user_id in order_user.items():\n",
    "    row_sparse = utils.make_coo_row(full_df[full_df.buyer_id == user_id].item_id.to_list(), product_encoder).tocsr()\n",
    "    raw_recs = model.recommend(user_encoder.toIdx(user_id), row_sparse,  N=20, filter_already_liked_items=False, recalculate_user=True)\n",
    "    prod_list = product_encoder.toPid(raw_recs[0])\n",
    "    result_list.append([order_id, prod_list])\n",
    "\n",
    "pred2 = pd.DataFrame(result_list, columns=['pav_order_id', 'preds'])\n",
    "pred2.to_csv('pred.csv', index=False)"
   ]
  },
  {
   "cell_type": "markdown",
   "metadata": {},
   "source": [
    "## 2.1 LogisticMatrixFactorization\n",
    "0.04"
   ]
  },
  {
   "cell_type": "code",
   "execution_count": 93,
   "metadata": {},
   "outputs": [
    {
     "name": "stderr",
     "output_type": "stream",
     "text": [
      "100%|██████████| 30/30 [00:22<00:00,  1.33it/s]\n"
     ]
    }
   ],
   "source": [
    "model2 = implicit.lmf.LogisticMatrixFactorization()\n",
    "model2.fit(X_sparse)"
   ]
  },
  {
   "cell_type": "code",
   "execution_count": 103,
   "metadata": {},
   "outputs": [],
   "source": [
    "result = model2.recommend_all(X_sparse, N=20, filter_already_liked_items=False)\n",
    "result_lmf = [product_encoder.toPid(line) for line in result]\n",
    "result_lmf_list = []\n",
    "for order_id, user_id in order_user.items():\n",
    "    ind = user_encoder.toIdx(user_id)\n",
    "    result_lmf_list.append([order_id, result_lmf[ind]])\n",
    "\n",
    "pred3 = pd.DataFrame(result_lmf_list, columns=['pav_order_id', 'preds'])\n",
    "# pred3.to_csv('pred.csv', index=False)"
   ]
  },
  {
   "cell_type": "code",
   "execution_count": null,
   "metadata": {},
   "outputs": [],
   "source": [
    "from sklearn.neighbors import NearestNeighbors\n",
    "\n",
    "knn = NearestNeighbors(metric='cosine', algorithm='brute')\n",
    "knn.fit(X_sparse)\n",
    "distances, indices = knn.kneighbors(X_sparse, n_neighbors=5)"
   ]
  },
  {
   "cell_type": "code",
   "execution_count": null,
   "metadata": {},
   "outputs": [],
   "source": [
    "def recommend_movie(title):\n",
    "\n",
    "  index_user_likes = matrix_df.index.tolist().index(title) # get an index for a movie\n",
    "  sim_movies = indices[index_user_likes].tolist() # make list for similar movies\n",
    "  movie_distances = distances[index_user_likes].tolist() # the list for distances of similar movies\n",
    "\n",
    "  id_movie = sim_movies.index(index_user_likes) # get the position of the movie itself in indices and distances\n",
    "\n",
    "  print('Similar Movies to '+str(matrix_df.index[index_user_likes])+': \\n')\n",
    "\n",
    "  sim_movies.remove(index_user_likes) # remove the movie itself in indices\n",
    "  movie_distances.pop(id_movie) # remove the movie itself in distances\n",
    "\n",
    "  j = 1\n",
    "    \n",
    "  for i in sim_movies:\n",
    "    print(str(j)+': '+str(matrix_df.index[i])+', the distance with '+str(title)+': '+str(movie_distances[j-1]))\n",
    "    j = j + 1"
   ]
  },
  {
   "cell_type": "code",
   "execution_count": null,
   "metadata": {},
   "outputs": [
    {
     "ename": "ValueError",
     "evalue": "202782406 is not in list",
     "output_type": "error",
     "traceback": [
      "\u001b[1;31m---------------------------------------------------------------------------\u001b[0m",
      "\u001b[1;31mValueError\u001b[0m                                Traceback (most recent call last)",
      "\u001b[1;32mc:\\my\\ML\\lenta\\r1.ipynb Cell 29'\u001b[0m in \u001b[0;36m<cell line: 1>\u001b[1;34m()\u001b[0m\n\u001b[1;32m----> <a href='vscode-notebook-cell:/c%3A/my/ML/lenta/r1.ipynb#ch0000073?line=0'>1</a>\u001b[0m recommend_movie(\u001b[39m202782406\u001b[39;49m)\n",
      "\u001b[1;32mc:\\my\\ML\\lenta\\r1.ipynb Cell 28'\u001b[0m in \u001b[0;36mrecommend_movie\u001b[1;34m(title)\u001b[0m\n\u001b[0;32m      <a href='vscode-notebook-cell:/c%3A/my/ML/lenta/r1.ipynb#ch0000071?line=0'>1</a>\u001b[0m \u001b[39mdef\u001b[39;00m \u001b[39mrecommend_movie\u001b[39m(title):\n\u001b[1;32m----> <a href='vscode-notebook-cell:/c%3A/my/ML/lenta/r1.ipynb#ch0000071?line=2'>3</a>\u001b[0m   index_user_likes \u001b[39m=\u001b[39m matrix_df\u001b[39m.\u001b[39;49mindex\u001b[39m.\u001b[39;49mtolist()\u001b[39m.\u001b[39;49mindex(title) \u001b[39m# get an index for a movie\u001b[39;00m\n\u001b[0;32m      <a href='vscode-notebook-cell:/c%3A/my/ML/lenta/r1.ipynb#ch0000071?line=3'>4</a>\u001b[0m   sim_movies \u001b[39m=\u001b[39m indices[index_user_likes]\u001b[39m.\u001b[39mtolist() \u001b[39m# make list for similar movies\u001b[39;00m\n\u001b[0;32m      <a href='vscode-notebook-cell:/c%3A/my/ML/lenta/r1.ipynb#ch0000071?line=4'>5</a>\u001b[0m   movie_distances \u001b[39m=\u001b[39m distances[index_user_likes]\u001b[39m.\u001b[39mtolist() \u001b[39m# the list for distances of similar movies\u001b[39;00m\n",
      "\u001b[1;31mValueError\u001b[0m: 202782406 is not in list"
     ]
    }
   ],
   "source": [
    "recommend_movie(202782406)"
   ]
  },
  {
   "cell_type": "markdown",
   "metadata": {},
   "source": [
    "## 2 решение item2item"
   ]
  },
  {
   "cell_type": "markdown",
   "metadata": {},
   "source": []
  }
 ],
 "metadata": {
  "interpreter": {
   "hash": "03130e1e88e13a032f69981c32da9b604f050f5857d0cf25fc1ed9951001c58f"
  },
  "kernelspec": {
   "display_name": "Python 3.8.10 ('venv': venv)",
   "language": "python",
   "name": "python3"
  },
  "language_info": {
   "codemirror_mode": {
    "name": "ipython",
    "version": 3
   },
   "file_extension": ".py",
   "mimetype": "text/x-python",
   "name": "python",
   "nbconvert_exporter": "python",
   "pygments_lexer": "ipython3",
   "version": "3.8.10"
  },
  "orig_nbformat": 4
 },
 "nbformat": 4,
 "nbformat_minor": 2
}
