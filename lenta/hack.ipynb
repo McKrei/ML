{
 "cells": [
  {
   "cell_type": "code",
   "execution_count": 15,
   "metadata": {},
   "outputs": [],
   "source": [
    "# Фибоначи который выдает только четные\n",
    "def even_fibonnachi(count):\n",
    "    if type(count) != int or count <= 0:\n",
    "        return []\n",
    "    result_list = [0]\n",
    "    fib_one, fib_two = 0, 1\n",
    "    count -= 1\n",
    "    while count > 0:\n",
    "        fib_one, fib_two = fib_two, fib_one + fib_two\n",
    "        if fib_two %2 == 0:\n",
    "            result_list.append(fib_two)\n",
    "            count -= 1\n",
    "    return result_list\n",
    "\n",
    "assert even_fibonnachi(4) == [0, 2, 8, 34]\n",
    "assert even_fibonnachi(0) == []\n",
    "assert even_fibonnachi(1) == [0]\n",
    "assert even_fibonnachi(-1) == []\n",
    "assert even_fibonnachi('222') == []\n"
   ]
  },
  {
   "cell_type": "code",
   "execution_count": 16,
   "metadata": {},
   "outputs": [],
   "source": [
    "# В этой миссии Вам надо определить, все ли элементы массива равны.\n",
    "def all_the_same(elements) -> bool:\n",
    "    return len(set(elements)) < 2 \n",
    "\n",
    "assert all_the_same([1, 1, 1]) == True\n",
    "assert all_the_same([1, 2, 1]) == False\n",
    "assert all_the_same(['a', 'a', 'a']) == True\n",
    "assert all_the_same([]) == True\n",
    "assert all_the_same([1,\"a\",1]) == False"
   ]
  },
  {
   "cell_type": "code",
   "execution_count": 21,
   "metadata": {},
   "outputs": [
    {
     "name": "stdout",
     "output_type": "stream",
     "text": [
      "It is all good. Let's check it now\n"
     ]
    }
   ],
   "source": [
    "def checkio(data: list) -> list:\n",
    "    return [el for el in data if data.count(el) > 1]\n",
    "\n",
    "\n",
    "assert list(checkio([1, 2, 3, 1, 3])) == [1, 3, 1, 3], \"1st example\"\n",
    "assert list(checkio([1, 2, 3, 4, 5])) == [], \"2nd example\"\n",
    "assert list(checkio([5, 5, 5, 5, 5])) == [5, 5, 5, 5, 5], \"3rd example\"\n",
    "assert list(checkio([10, 9, 10, 10, 9, 8])) == [10, 9, 10, 10, 9], \"4th example\"\n",
    "print(\"It is all good. Let's check it now\")"
   ]
  },
  {
   "cell_type": "code",
   "execution_count": 22,
   "metadata": {},
   "outputs": [
    {
     "name": "stdout",
     "output_type": "stream",
     "text": [
      "Coding complete? Click 'Check' to review your tests and earn cool rewards!\n"
     ]
    }
   ],
   "source": [
    "def left_join(phrases: tuple) -> str:\n",
    "    \"\"\"\n",
    "    Join strings and replace \"right\" to \"left\"\n",
    "    \"\"\"\n",
    "    return ','.join(phrases).replace(\"right\", \"left\")\n",
    "\n",
    "\n",
    "\n",
    "assert (\n",
    "    left_join((\"left\", \"right\", \"left\", \"stop\")) == \"left,left,left,stop\"\n",
    "), \"All to left\"\n",
    "assert left_join((\"bright aright\", \"ok\")) == \"bleft aleft,ok\", \"Bright Left\"\n",
    "assert left_join((\"brightness wright\",)) == \"bleftness wleft\", \"One phrase\"\n",
    "assert left_join((\"enough\", \"jokes\")) == \"enough,jokes\", \"Nothing to replace\"\n",
    "print(\"Coding complete? Click 'Check' to review your tests and earn cool rewards!\")"
   ]
  },
  {
   "cell_type": "code",
   "execution_count": 12,
   "metadata": {},
   "outputs": [
    {
     "name": "stdout",
     "output_type": "stream",
     "text": [
      "Coding complete? Click 'Check' to earn cool rewards!\n"
     ]
    }
   ],
   "source": [
    "def backward_string_by_word(text: str) -> str:\n",
    "    if not text:\n",
    "        return text\n",
    "    list_text = text.split()\n",
    "    for word in set(list_text):\n",
    "        text = text.replace(word, word[::-1])\n",
    "    return text\n",
    "\n",
    "# These \"asserts\" are used for self-checking and not for an auto-testing\n",
    "assert backward_string_by_word('') == ''\n",
    "assert backward_string_by_word('world') == 'dlrow'\n",
    "assert backward_string_by_word('hello world') == 'olleh dlrow'\n",
    "assert backward_string_by_word('hello   world') == 'olleh   dlrow'\n",
    "assert backward_string_by_word('welcome to a game') == 'emoclew ot a emag'\n",
    "print(\"Coding complete? Click 'Check' to earn cool rewards!\")"
   ]
  },
  {
   "cell_type": "code",
   "execution_count": 27,
   "metadata": {},
   "outputs": [
    {
     "name": "stdout",
     "output_type": "stream",
     "text": [
      "Неделя: 2, нужно пробежать 11.00, в день 3.67\n",
      "Неделя: 3, нужно пробежать 12.10, в день 4.03\n",
      "Неделя: 4, нужно пробежать 13.31, в день 4.44\n",
      "Неделя: 5, нужно пробежать 14.64, в день 4.88\n",
      "Неделя: 6, нужно пробежать 16.11, в день 5.37\n",
      "Неделя: 7, нужно пробежать 17.72, в день 5.91\n",
      "Неделя: 8, нужно пробежать 19.49, в день 6.50\n",
      "Неделя: 9, нужно пробежать 21.44, в день 7.15\n",
      "Неделя: 10, нужно пробежать 23.58, в день 7.86\n",
      "Неделя: 11, нужно пробежать 25.94, в день 8.65\n",
      "Неделя: 12, нужно пробежать 28.53, в день 9.51\n",
      "Неделя: 13, нужно пробежать 31.38, в день 10.46\n",
      "Неделя: 14, нужно пробежать 34.52, в день 11.51\n",
      "Неделя: 15, нужно пробежать 37.97, в день 12.66\n",
      "Неделя: 16, нужно пробежать 41.77, в день 13.92\n",
      "Неделя: 17, нужно пробежать 45.95, в день 15.32\n",
      "Неделя: 18, нужно пробежать 50.54, в день 16.85\n",
      "Бегай каждый день и через 18 недель, ты пробежишь 50 км.\n"
     ]
    }
   ],
   "source": [
    "km_1 = 10\n",
    "km_2 = 50\n",
    "week = 1\n",
    "\n",
    "while km_1 < km_2:\n",
    "    week += 1\n",
    "    km_1 = km_1 * 1.1\n",
    "\n",
    "    print(f'Неделя: {week}, нужно пробежать {km_1:.2f}, в день {km_1/3:.2f}')\n",
    "\n",
    "print(f'Бегай каждый день и через {week} недель, ты пробежишь {km_2} км.')"
   ]
  },
  {
   "cell_type": "code",
   "execution_count": 23,
   "metadata": {},
   "outputs": [],
   "source": [
    "import pandas as pd\n",
    "import numpy as np\n",
    "A = [1,2,3,4,5,6,7,8,9,9]\n",
    "B = ['c', 'a', 'b', 'c', 'a', 'b', 'c', 'a', 'b', 'c']\n",
    "# def groupbysum(A,B):\n",
    "#     result = pd.DataFrame({'A': A, 'B': B}).groupby('B').agg({'A': np.sum}).A.to_dict()\n",
    "#     return result\n",
    "def groupbysum(A,B):\n",
    "    result = {}\n",
    "    for a, b in zip(A, B):\n",
    "        if result.get(b):\n",
    "            result[b] += a\n",
    "        else:\n",
    "            result[b] = a\n",
    "    return result\n",
    "    "
   ]
  },
  {
   "cell_type": "code",
   "execution_count": 24,
   "metadata": {},
   "outputs": [
    {
     "data": {
      "text/plain": [
       "{'c': 21, 'a': 15, 'b': 18}"
      ]
     },
     "execution_count": 24,
     "metadata": {},
     "output_type": "execute_result"
    }
   ],
   "source": [
    "groupbysum(A,B)"
   ]
  },
  {
   "cell_type": "code",
   "execution_count": 12,
   "metadata": {},
   "outputs": [
    {
     "data": {
      "text/plain": [
       "{'a': 15, 'b': 18, 'c': 21}"
      ]
     },
     "execution_count": 12,
     "metadata": {},
     "output_type": "execute_result"
    }
   ],
   "source": []
  }
 ],
 "metadata": {
  "interpreter": {
   "hash": "03130e1e88e13a032f69981c32da9b604f050f5857d0cf25fc1ed9951001c58f"
  },
  "kernelspec": {
   "display_name": "Python 3.8.10 ('venv': venv)",
   "language": "python",
   "name": "python3"
  },
  "language_info": {
   "codemirror_mode": {
    "name": "ipython",
    "version": 3
   },
   "file_extension": ".py",
   "mimetype": "text/x-python",
   "name": "python",
   "nbconvert_exporter": "python",
   "pygments_lexer": "ipython3",
   "version": "3.8.10"
  },
  "orig_nbformat": 4
 },
 "nbformat": 4,
 "nbformat_minor": 2
}
